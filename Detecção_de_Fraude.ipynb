{
  "cells": [
    {
      "cell_type": "markdown",
      "source": [
        "\n",
        "# Objective\n",
        "\n",
        "\n",
        "\n",
        "\n",
        "A tabela data_clientes, possui as informações de cada usuário do banco com uma classificação pré-estabelecida para esses usuários.  A classificação é dada A,B,C,D ou F, sendo que de A a D é como o cliente utiliza sua conta de maneira boa a ruim e F se é uma conta fraudulenta. Algumas contas não estão classificadas.\n",
        "\n",
        "Como objetivo, sera criado um modelo que possa aprender com os dados e possa dizer se essas contas que não possuem classificação são ou não fraude. \n",
        "\n",
        "O resultado será um csv com 2 colunas. 1ª 'account_number' conta do cliente, 2ª 'fraud' com 0 para não fraude e 1 para fraude. \n",
        "\n",
        "\n",
        "\n",
        "\n",
        "\n"
      ],
      "metadata": {
        "id": "oeajLUXvU4R2"
      }
    },
    {
      "cell_type": "markdown",
      "source": [
        "# Description\n",
        "\n",
        "*   data_clientes -> dados do cliente\n",
        "*   data_transactions -> transações de cada cliente. Transações do tipo 1 (boleto recebido), tipo 2 (pix enviado), tipo 3 (pix recebido)\n",
        "*   data_charges -> Boletos pagos ou não pagos por cada cliente"
      ],
      "metadata": {
        "id": "Aq_GckPKbj4_"
      }
    },
    {
      "cell_type": "markdown",
      "metadata": {
        "id": "EgrDOzpsmPNS"
      },
      "source": [
        "## Importing Libraries"
      ]
    },
    {
      "cell_type": "code",
      "execution_count": null,
      "metadata": {
        "id": "QsaB_CEBXgbw"
      },
      "outputs": [],
      "source": [
        "# Bibliotecas utilizadas\n",
        "import pandas as pd\n",
        "import numpy as np\n",
        "from datetime import datetime, date\n",
        "import statistics\n",
        "import warnings\n",
        "warnings.filterwarnings('ignore')\n",
        "\n",
        "# Visualização\n",
        "import matplotlib.pyplot as plt\n",
        "import seaborn as sns\n",
        "\n",
        "# Pre-Processamento \n",
        "from sklearn.model_selection import train_test_split\n",
        "from imblearn.over_sampling import SMOTE\n",
        "from category_encoders.one_hot import OneHotEncoder\n",
        "\n",
        "# Criação dos Modelos\n",
        "from xgboost import XGBClassifier\n",
        "from sklearn.ensemble import RandomForestClassifier\n",
        "\n",
        "# Validação dos Modelos\n",
        "from sklearn.metrics import classification_report, accuracy_score, confusion_matrix\n",
        "from sklearn.model_selection import cross_val_score"
      ]
    },
    {
      "cell_type": "markdown",
      "metadata": {
        "id": "ZVWEbChGmJj8"
      },
      "source": [
        "## Loading Data"
      ]
    },
    {
      "cell_type": "code",
      "execution_count": null,
      "metadata": {
        "id": "P3FDGNT8mEXk"
      },
      "outputs": [],
      "source": [
        "data_charges = pd.read_csv('data_charges.csv')"
      ]
    },
    {
      "cell_type": "code",
      "execution_count": null,
      "metadata": {
        "id": "q1GE_T8PmEcz"
      },
      "outputs": [],
      "source": [
        "data_transaction = pd.read_csv('data_transaction.csv')"
      ]
    },
    {
      "cell_type": "code",
      "execution_count": null,
      "metadata": {
        "id": "bqPjmVK7mEhh"
      },
      "outputs": [],
      "source": [
        "data_clientes = pd.read_csv('data_clientes.csv')"
      ]
    },
    {
      "cell_type": "markdown",
      "metadata": {
        "id": "CJB-mpdX86bF"
      },
      "source": [
        "# Pre-Processing"
      ]
    },
    {
      "cell_type": "markdown",
      "metadata": {
        "id": "yPDaiffO7Y0_"
      },
      "source": [
        "## Data View"
      ]
    },
    {
      "cell_type": "markdown",
      "metadata": {
        "id": "AzCv8iGt8Ikm"
      },
      "source": [
        "### Client's data"
      ]
    },
    {
      "cell_type": "code",
      "execution_count": null,
      "metadata": {
        "id": "GVqCCGz2hqIK",
        "outputId": "c569596e-ff77-4f45-cca6-2cfa50a82d05"
      },
      "outputs": [
        {
          "data": {
            "text/html": [
              "<div>\n",
              "<style scoped>\n",
              "    .dataframe tbody tr th:only-of-type {\n",
              "        vertical-align: middle;\n",
              "    }\n",
              "\n",
              "    .dataframe tbody tr th {\n",
              "        vertical-align: top;\n",
              "    }\n",
              "\n",
              "    .dataframe thead th {\n",
              "        text-align: right;\n",
              "    }\n",
              "</style>\n",
              "<table border=\"1\" class=\"dataframe\">\n",
              "  <thead>\n",
              "    <tr style=\"text-align: right;\">\n",
              "      <th></th>\n",
              "      <th>id</th>\n",
              "      <th>account_number</th>\n",
              "      <th>birth</th>\n",
              "      <th>occupation</th>\n",
              "      <th>address_id</th>\n",
              "      <th>created_at</th>\n",
              "      <th>id.1</th>\n",
              "      <th>state</th>\n",
              "      <th>city</th>\n",
              "      <th>created_at.1</th>\n",
              "      <th>id.2</th>\n",
              "      <th>level</th>\n",
              "      <th>created_at.2</th>\n",
              "    </tr>\n",
              "  </thead>\n",
              "  <tbody>\n",
              "    <tr>\n",
              "      <th>0</th>\n",
              "      <td>1</td>\n",
              "      <td>155938</td>\n",
              "      <td>1984-10-29</td>\n",
              "      <td>Outros</td>\n",
              "      <td>1</td>\n",
              "      <td>2021-04-01 02:30:00</td>\n",
              "      <td>1</td>\n",
              "      <td>RJ</td>\n",
              "      <td>Carmo</td>\n",
              "      <td>2021-04-01 02:30:00</td>\n",
              "      <td>1.0</td>\n",
              "      <td>F</td>\n",
              "      <td>2021-04-20 08:00:00</td>\n",
              "    </tr>\n",
              "    <tr>\n",
              "      <th>1</th>\n",
              "      <td>2</td>\n",
              "      <td>747007</td>\n",
              "      <td>1977-03-26</td>\n",
              "      <td>Corretor</td>\n",
              "      <td>2</td>\n",
              "      <td>2021-04-01 02:00:00</td>\n",
              "      <td>2</td>\n",
              "      <td>MG</td>\n",
              "      <td>Bertopolis</td>\n",
              "      <td>2021-04-01 02:00:00</td>\n",
              "      <td>2.0</td>\n",
              "      <td>D</td>\n",
              "      <td>2021-04-19 19:30:00</td>\n",
              "    </tr>\n",
              "    <tr>\n",
              "      <th>2</th>\n",
              "      <td>3</td>\n",
              "      <td>208404</td>\n",
              "      <td>1984-01-26</td>\n",
              "      <td>Analista</td>\n",
              "      <td>3</td>\n",
              "      <td>2021-04-01 11:30:00</td>\n",
              "      <td>3</td>\n",
              "      <td>MG</td>\n",
              "      <td>Olaria</td>\n",
              "      <td>2021-04-01 11:30:00</td>\n",
              "      <td>NaN</td>\n",
              "      <td>NaN</td>\n",
              "      <td>NaN</td>\n",
              "    </tr>\n",
              "    <tr>\n",
              "      <th>3</th>\n",
              "      <td>4</td>\n",
              "      <td>66402</td>\n",
              "      <td>1982-06-30</td>\n",
              "      <td>Investidor</td>\n",
              "      <td>4</td>\n",
              "      <td>2021-04-01 14:30:00</td>\n",
              "      <td>4</td>\n",
              "      <td>PR</td>\n",
              "      <td>Icaraima</td>\n",
              "      <td>2021-04-01 14:30:00</td>\n",
              "      <td>4.0</td>\n",
              "      <td>D</td>\n",
              "      <td>2021-04-28 21:00:00</td>\n",
              "    </tr>\n",
              "    <tr>\n",
              "      <th>4</th>\n",
              "      <td>5</td>\n",
              "      <td>277012</td>\n",
              "      <td>1967-01-11</td>\n",
              "      <td>Outros</td>\n",
              "      <td>5</td>\n",
              "      <td>2021-04-02 15:30:00</td>\n",
              "      <td>5</td>\n",
              "      <td>ES</td>\n",
              "      <td>Ecoporanga</td>\n",
              "      <td>2021-04-02 15:30:00</td>\n",
              "      <td>5.0</td>\n",
              "      <td>D</td>\n",
              "      <td>2021-04-19 12:00:00</td>\n",
              "    </tr>\n",
              "  </tbody>\n",
              "</table>\n",
              "</div>"
            ],
            "text/plain": [
              "   id  account_number       birth  occupation  address_id  \\\n",
              "0   1          155938  1984-10-29      Outros           1   \n",
              "1   2          747007  1977-03-26    Corretor           2   \n",
              "2   3          208404  1984-01-26    Analista           3   \n",
              "3   4           66402  1982-06-30  Investidor           4   \n",
              "4   5          277012  1967-01-11      Outros           5   \n",
              "\n",
              "            created_at  id.1 state        city         created_at.1  id.2  \\\n",
              "0  2021-04-01 02:30:00     1    RJ       Carmo  2021-04-01 02:30:00   1.0   \n",
              "1  2021-04-01 02:00:00     2    MG  Bertopolis  2021-04-01 02:00:00   2.0   \n",
              "2  2021-04-01 11:30:00     3    MG      Olaria  2021-04-01 11:30:00   NaN   \n",
              "3  2021-04-01 14:30:00     4    PR    Icaraima  2021-04-01 14:30:00   4.0   \n",
              "4  2021-04-02 15:30:00     5    ES  Ecoporanga  2021-04-02 15:30:00   5.0   \n",
              "\n",
              "  level         created_at.2  \n",
              "0     F  2021-04-20 08:00:00  \n",
              "1     D  2021-04-19 19:30:00  \n",
              "2   NaN                  NaN  \n",
              "3     D  2021-04-28 21:00:00  \n",
              "4     D  2021-04-19 12:00:00  "
            ]
          },
          "execution_count": 288,
          "metadata": {},
          "output_type": "execute_result"
        }
      ],
      "source": [
        "data_clientes.head()"
      ]
    },
    {
      "cell_type": "code",
      "execution_count": null,
      "metadata": {
        "colab": {
          "base_uri": "https://localhost:8080/"
        },
        "id": "PGfRX07X7e3b",
        "outputId": "fa3fe21d-74ec-4005-d782-041f9aca03be",
        "scrolled": true
      },
      "outputs": [
        {
          "name": "stdout",
          "output_type": "stream",
          "text": [
            "<class 'pandas.core.frame.DataFrame'>\n",
            "RangeIndex: 1029 entries, 0 to 1028\n",
            "Data columns (total 13 columns):\n",
            " #   Column          Non-Null Count  Dtype  \n",
            "---  ------          --------------  -----  \n",
            " 0   id              1029 non-null   int64  \n",
            " 1   account_number  1029 non-null   int64  \n",
            " 2   birth           1029 non-null   object \n",
            " 3   occupation      1029 non-null   object \n",
            " 4   address_id      1029 non-null   int64  \n",
            " 5   created_at      1029 non-null   object \n",
            " 6   id.1            1029 non-null   int64  \n",
            " 7   state           1029 non-null   object \n",
            " 8   city            1029 non-null   object \n",
            " 9   created_at.1    1029 non-null   object \n",
            " 10  id.2            926 non-null    float64\n",
            " 11  level           926 non-null    object \n",
            " 12  created_at.2    926 non-null    object \n",
            "dtypes: float64(1), int64(4), object(8)\n",
            "memory usage: 104.6+ KB\n"
          ]
        }
      ],
      "source": [
        "'''\n",
        "Existência de dados do tipo quantitativo e qualitativo no dataframe data_clientes\n",
        "'''\n",
        "\n",
        "data_clientes.info()"
      ]
    },
    {
      "cell_type": "code",
      "execution_count": null,
      "metadata": {
        "colab": {
          "base_uri": "https://localhost:8080/"
        },
        "id": "xJzN1G7r7e_7",
        "outputId": "c28706bd-6486-4671-e798-8fa6c13e3c6c"
      },
      "outputs": [
        {
          "data": {
            "text/plain": [
              "id                  0\n",
              "account_number      0\n",
              "birth               0\n",
              "occupation          0\n",
              "address_id          0\n",
              "created_at          0\n",
              "id.1                0\n",
              "state               0\n",
              "city                0\n",
              "created_at.1        0\n",
              "id.2              103\n",
              "level             103\n",
              "created_at.2      103\n",
              "dtype: int64"
            ]
          },
          "execution_count": 290,
          "metadata": {},
          "output_type": "execute_result"
        }
      ],
      "source": [
        "'''\n",
        "103 valores NAs existentes\n",
        "'''\n",
        "data_clientes.isna().sum()"
      ]
    },
    {
      "cell_type": "markdown",
      "metadata": {
        "id": "wIN7iub38flJ"
      },
      "source": [
        "### Charges"
      ]
    },
    {
      "cell_type": "code",
      "execution_count": null,
      "metadata": {
        "id": "1vYvNuCXhqIP",
        "outputId": "aab0fa4f-1153-4237-b61c-e6e361b2a5b9"
      },
      "outputs": [
        {
          "data": {
            "text/html": [
              "<div>\n",
              "<style scoped>\n",
              "    .dataframe tbody tr th:only-of-type {\n",
              "        vertical-align: middle;\n",
              "    }\n",
              "\n",
              "    .dataframe tbody tr th {\n",
              "        vertical-align: top;\n",
              "    }\n",
              "\n",
              "    .dataframe thead th {\n",
              "        text-align: right;\n",
              "    }\n",
              "</style>\n",
              "<table border=\"1\" class=\"dataframe\">\n",
              "  <thead>\n",
              "    <tr style=\"text-align: right;\">\n",
              "      <th></th>\n",
              "      <th>id</th>\n",
              "      <th>account_number</th>\n",
              "      <th>status</th>\n",
              "      <th>value</th>\n",
              "      <th>created_at</th>\n",
              "    </tr>\n",
              "  </thead>\n",
              "  <tbody>\n",
              "    <tr>\n",
              "      <th>0</th>\n",
              "      <td>1</td>\n",
              "      <td>155938</td>\n",
              "      <td>paid</td>\n",
              "      <td>11992</td>\n",
              "      <td>2021-04-01 03:00:00</td>\n",
              "    </tr>\n",
              "    <tr>\n",
              "      <th>1</th>\n",
              "      <td>2</td>\n",
              "      <td>155938</td>\n",
              "      <td>paid</td>\n",
              "      <td>9689</td>\n",
              "      <td>2021-04-01 13:30:00</td>\n",
              "    </tr>\n",
              "    <tr>\n",
              "      <th>2</th>\n",
              "      <td>3</td>\n",
              "      <td>155938</td>\n",
              "      <td>paid</td>\n",
              "      <td>11579</td>\n",
              "      <td>2021-04-01 11:30:00</td>\n",
              "    </tr>\n",
              "    <tr>\n",
              "      <th>3</th>\n",
              "      <td>4</td>\n",
              "      <td>747007</td>\n",
              "      <td>unpaid</td>\n",
              "      <td>3134</td>\n",
              "      <td>2021-04-02 12:00:00</td>\n",
              "    </tr>\n",
              "    <tr>\n",
              "      <th>4</th>\n",
              "      <td>5</td>\n",
              "      <td>747007</td>\n",
              "      <td>paid</td>\n",
              "      <td>3085</td>\n",
              "      <td>2021-04-02 19:00:00</td>\n",
              "    </tr>\n",
              "  </tbody>\n",
              "</table>\n",
              "</div>"
            ],
            "text/plain": [
              "   id  account_number  status  value           created_at\n",
              "0   1          155938    paid  11992  2021-04-01 03:00:00\n",
              "1   2          155938    paid   9689  2021-04-01 13:30:00\n",
              "2   3          155938    paid  11579  2021-04-01 11:30:00\n",
              "3   4          747007  unpaid   3134  2021-04-02 12:00:00\n",
              "4   5          747007    paid   3085  2021-04-02 19:00:00"
            ]
          },
          "execution_count": 291,
          "metadata": {},
          "output_type": "execute_result"
        }
      ],
      "source": [
        "data_charges.head()"
      ]
    },
    {
      "cell_type": "code",
      "execution_count": null,
      "metadata": {
        "colab": {
          "base_uri": "https://localhost:8080/"
        },
        "id": "WMAB9fE58iYu",
        "outputId": "49416614-26bf-41eb-a392-ca11c5562a9e"
      },
      "outputs": [
        {
          "name": "stdout",
          "output_type": "stream",
          "text": [
            "<class 'pandas.core.frame.DataFrame'>\n",
            "RangeIndex: 154469 entries, 0 to 154468\n",
            "Data columns (total 5 columns):\n",
            " #   Column          Non-Null Count   Dtype \n",
            "---  ------          --------------   ----- \n",
            " 0   id              154469 non-null  int64 \n",
            " 1   account_number  154469 non-null  int64 \n",
            " 2   status          154469 non-null  object\n",
            " 3   value           154469 non-null  int64 \n",
            " 4   created_at      154469 non-null  object\n",
            "dtypes: int64(3), object(2)\n",
            "memory usage: 5.9+ MB\n"
          ]
        }
      ],
      "source": [
        "'''\n",
        "Verificado a existência de 154469 registros com informações quantitativas e qualitativas\n",
        "'''\n",
        "data_charges.info()"
      ]
    },
    {
      "cell_type": "code",
      "execution_count": null,
      "metadata": {
        "colab": {
          "base_uri": "https://localhost:8080/"
        },
        "id": "pwTvubJY8ibK",
        "outputId": "cce940bf-d43b-4b29-a2cb-cc272cd869f1"
      },
      "outputs": [
        {
          "data": {
            "text/plain": [
              "id                0\n",
              "account_number    0\n",
              "status            0\n",
              "value             0\n",
              "created_at        0\n",
              "dtype: int64"
            ]
          },
          "execution_count": 293,
          "metadata": {},
          "output_type": "execute_result"
        }
      ],
      "source": [
        "'''\n",
        "Inexistência de valores faltantes \n",
        "'''\n",
        "data_charges.isna().sum()"
      ]
    },
    {
      "cell_type": "markdown",
      "metadata": {
        "id": "fZss71IH9qW9"
      },
      "source": [
        "### Transactions"
      ]
    },
    {
      "cell_type": "code",
      "execution_count": null,
      "metadata": {
        "id": "jUOqS2xnhqIR",
        "outputId": "8aded319-25f1-485c-f277-d6f1f34cf1ba"
      },
      "outputs": [
        {
          "data": {
            "text/html": [
              "<div>\n",
              "<style scoped>\n",
              "    .dataframe tbody tr th:only-of-type {\n",
              "        vertical-align: middle;\n",
              "    }\n",
              "\n",
              "    .dataframe tbody tr th {\n",
              "        vertical-align: top;\n",
              "    }\n",
              "\n",
              "    .dataframe thead th {\n",
              "        text-align: right;\n",
              "    }\n",
              "</style>\n",
              "<table border=\"1\" class=\"dataframe\">\n",
              "  <thead>\n",
              "    <tr style=\"text-align: right;\">\n",
              "      <th></th>\n",
              "      <th>id</th>\n",
              "      <th>account_number</th>\n",
              "      <th>transaction_type_id</th>\n",
              "      <th>value</th>\n",
              "      <th>created_at</th>\n",
              "    </tr>\n",
              "  </thead>\n",
              "  <tbody>\n",
              "    <tr>\n",
              "      <th>0</th>\n",
              "      <td>1</td>\n",
              "      <td>155938</td>\n",
              "      <td>1</td>\n",
              "      <td>11992</td>\n",
              "      <td>2021-04-01 03:00:00</td>\n",
              "    </tr>\n",
              "    <tr>\n",
              "      <th>1</th>\n",
              "      <td>2</td>\n",
              "      <td>155938</td>\n",
              "      <td>1</td>\n",
              "      <td>9689</td>\n",
              "      <td>2021-04-01 13:30:00</td>\n",
              "    </tr>\n",
              "    <tr>\n",
              "      <th>2</th>\n",
              "      <td>3</td>\n",
              "      <td>155938</td>\n",
              "      <td>1</td>\n",
              "      <td>11579</td>\n",
              "      <td>2021-04-01 11:30:00</td>\n",
              "    </tr>\n",
              "    <tr>\n",
              "      <th>3</th>\n",
              "      <td>4</td>\n",
              "      <td>155938</td>\n",
              "      <td>3</td>\n",
              "      <td>11168</td>\n",
              "      <td>2021-04-01 11:00:00</td>\n",
              "    </tr>\n",
              "    <tr>\n",
              "      <th>4</th>\n",
              "      <td>5</td>\n",
              "      <td>155938</td>\n",
              "      <td>3</td>\n",
              "      <td>10772</td>\n",
              "      <td>2021-04-01 21:00:00</td>\n",
              "    </tr>\n",
              "  </tbody>\n",
              "</table>\n",
              "</div>"
            ],
            "text/plain": [
              "   id  account_number  transaction_type_id  value           created_at\n",
              "0   1          155938                    1  11992  2021-04-01 03:00:00\n",
              "1   2          155938                    1   9689  2021-04-01 13:30:00\n",
              "2   3          155938                    1  11579  2021-04-01 11:30:00\n",
              "3   4          155938                    3  11168  2021-04-01 11:00:00\n",
              "4   5          155938                    3  10772  2021-04-01 21:00:00"
            ]
          },
          "execution_count": 294,
          "metadata": {},
          "output_type": "execute_result"
        }
      ],
      "source": [
        "data_transaction.head()"
      ]
    },
    {
      "cell_type": "code",
      "execution_count": null,
      "metadata": {
        "colab": {
          "base_uri": "https://localhost:8080/"
        },
        "id": "HwOJjpOm9vYw",
        "outputId": "645ea7b8-3cbc-4443-8481-9db1bcaa85a5"
      },
      "outputs": [
        {
          "name": "stdout",
          "output_type": "stream",
          "text": [
            "<class 'pandas.core.frame.DataFrame'>\n",
            "RangeIndex: 256227 entries, 0 to 256226\n",
            "Data columns (total 5 columns):\n",
            " #   Column               Non-Null Count   Dtype \n",
            "---  ------               --------------   ----- \n",
            " 0   id                   256227 non-null  int64 \n",
            " 1   account_number       256227 non-null  int64 \n",
            " 2   transaction_type_id  256227 non-null  int64 \n",
            " 3   value                256227 non-null  int64 \n",
            " 4   created_at           256227 non-null  object\n",
            "dtypes: int64(4), object(1)\n",
            "memory usage: 9.8+ MB\n"
          ]
        }
      ],
      "source": [
        "'''\n",
        "Existência de 256227 registros com informações quantitativas e qualitativas em formatos int e object\n",
        "'''\n",
        "data_transaction.info()"
      ]
    },
    {
      "cell_type": "code",
      "execution_count": null,
      "metadata": {
        "colab": {
          "base_uri": "https://localhost:8080/"
        },
        "id": "QNZ42qVI9vhj",
        "outputId": "3e0421d4-ef28-428a-cfc7-506d46e8efce"
      },
      "outputs": [
        {
          "data": {
            "text/plain": [
              "id                     0\n",
              "account_number         0\n",
              "transaction_type_id    0\n",
              "value                  0\n",
              "created_at             0\n",
              "dtype: int64"
            ]
          },
          "execution_count": 296,
          "metadata": {},
          "output_type": "execute_result"
        }
      ],
      "source": [
        "'''\n",
        "Inexistência de valores faltantes \n",
        "'''\n",
        "data_transaction.isna().sum()"
      ]
    },
    {
      "cell_type": "markdown",
      "metadata": {
        "id": "yWwtETZioQJ0"
      },
      "source": [
        "# Treatment\n"
      ]
    },
    {
      "cell_type": "markdown",
      "metadata": {
        "id": "6gzoKen47RgO"
      },
      "source": [
        "### data_clientes"
      ]
    },
    {
      "cell_type": "code",
      "execution_count": null,
      "metadata": {
        "id": "u2ljULogmEmK"
      },
      "outputs": [],
      "source": [
        "'''\n",
        "Função para alterar data de nascimento para idade atual\n",
        "'''\n",
        "def age(born):\n",
        "    born = datetime.strptime(born, \"%Y-%m-%d\").date()\n",
        "    today = date.today()\n",
        "    return today.year - born.year - ((today.month, \n",
        "                                      today.day) < (born.month, \n",
        "                                                    born.day))"
      ]
    },
    {
      "cell_type": "code",
      "execution_count": null,
      "metadata": {
        "id": "1mwc-oiKmEoL"
      },
      "outputs": [],
      "source": [
        "'''\n",
        "Transformando data de nascimento em idade \n",
        "'''\n",
        "data_clientes['age'] = data_clientes['birth'].apply(age)\n",
        "\n",
        "'''\n",
        "Resetando index\n",
        "'''\n",
        "data_clientes.reset_index(inplace = True)\n",
        "\n",
        "'''\n",
        "Limpando a base de dados de features desnecessárias\n",
        "'''\n",
        "data_clientes.drop(['address_id','id.1','birth','created_at.1','created_at.2',\n",
        "                    'id.2','id','index','created_at'], axis= 1, inplace = True)"
      ]
    },
    {
      "cell_type": "code",
      "execution_count": null,
      "metadata": {
        "id": "PLzXup0Qhpsi"
      },
      "outputs": [],
      "source": [
        "'''\n",
        "Classificando as contas fraude (F) como 1 e o restante como 0 (A, B, C, D)\n",
        "'''\n",
        "data_clientes.loc[data_clientes['level'] == 'A','level'] = 0\n",
        "data_clientes.loc[data_clientes['level'] == 'B','level'] = 0\n",
        "data_clientes.loc[data_clientes['level'] == 'C','level'] = 0\n",
        "data_clientes.loc[data_clientes['level'] == 'D','level'] = 0\n",
        "data_clientes.loc[data_clientes['level'] == 'F','level'] = 1\n"
      ]
    },
    {
      "cell_type": "code",
      "execution_count": null,
      "metadata": {
        "id": "7K6koZqyhqIb",
        "outputId": "68923fa9-0116-480d-e0af-52c626c934b6"
      },
      "outputs": [
        {
          "data": {
            "text/html": [
              "<div>\n",
              "<style scoped>\n",
              "    .dataframe tbody tr th:only-of-type {\n",
              "        vertical-align: middle;\n",
              "    }\n",
              "\n",
              "    .dataframe tbody tr th {\n",
              "        vertical-align: top;\n",
              "    }\n",
              "\n",
              "    .dataframe thead th {\n",
              "        text-align: right;\n",
              "    }\n",
              "</style>\n",
              "<table border=\"1\" class=\"dataframe\">\n",
              "  <thead>\n",
              "    <tr style=\"text-align: right;\">\n",
              "      <th></th>\n",
              "      <th>account_number</th>\n",
              "      <th>occupation</th>\n",
              "      <th>state</th>\n",
              "      <th>city</th>\n",
              "      <th>level</th>\n",
              "      <th>age</th>\n",
              "    </tr>\n",
              "  </thead>\n",
              "  <tbody>\n",
              "    <tr>\n",
              "      <th>0</th>\n",
              "      <td>155938</td>\n",
              "      <td>Outros</td>\n",
              "      <td>RJ</td>\n",
              "      <td>Carmo</td>\n",
              "      <td>1</td>\n",
              "      <td>37</td>\n",
              "    </tr>\n",
              "    <tr>\n",
              "      <th>1</th>\n",
              "      <td>747007</td>\n",
              "      <td>Corretor</td>\n",
              "      <td>MG</td>\n",
              "      <td>Bertopolis</td>\n",
              "      <td>0</td>\n",
              "      <td>45</td>\n",
              "    </tr>\n",
              "    <tr>\n",
              "      <th>2</th>\n",
              "      <td>208404</td>\n",
              "      <td>Analista</td>\n",
              "      <td>MG</td>\n",
              "      <td>Olaria</td>\n",
              "      <td>NaN</td>\n",
              "      <td>38</td>\n",
              "    </tr>\n",
              "    <tr>\n",
              "      <th>3</th>\n",
              "      <td>66402</td>\n",
              "      <td>Investidor</td>\n",
              "      <td>PR</td>\n",
              "      <td>Icaraima</td>\n",
              "      <td>0</td>\n",
              "      <td>39</td>\n",
              "    </tr>\n",
              "    <tr>\n",
              "      <th>4</th>\n",
              "      <td>277012</td>\n",
              "      <td>Outros</td>\n",
              "      <td>ES</td>\n",
              "      <td>Ecoporanga</td>\n",
              "      <td>0</td>\n",
              "      <td>55</td>\n",
              "    </tr>\n",
              "  </tbody>\n",
              "</table>\n",
              "</div>"
            ],
            "text/plain": [
              "   account_number  occupation state        city level  age\n",
              "0          155938      Outros    RJ       Carmo     1   37\n",
              "1          747007    Corretor    MG  Bertopolis     0   45\n",
              "2          208404    Analista    MG      Olaria   NaN   38\n",
              "3           66402  Investidor    PR    Icaraima     0   39\n",
              "4          277012      Outros    ES  Ecoporanga     0   55"
            ]
          },
          "execution_count": 300,
          "metadata": {},
          "output_type": "execute_result"
        }
      ],
      "source": [
        "data_clientes.head()"
      ]
    },
    {
      "cell_type": "markdown",
      "metadata": {
        "id": "ZS72bkkNeoeP"
      },
      "source": [
        "### Data Charges"
      ]
    },
    {
      "cell_type": "markdown",
      "metadata": {
        "id": "zoPzhtJhhqIb"
      },
      "source": [
        "Nessa tabela optei por fazer uma filtragem dos dados para apenas registros de boletos não pagos. Assim, posso classifica-los de 'unpaid' para '4' e juntar essa categoria as outras da tabela data_transaction. "
      ]
    },
    {
      "cell_type": "code",
      "execution_count": null,
      "metadata": {
        "id": "twqsG8DAetPb"
      },
      "outputs": [],
      "source": [
        "data_charges = data_charges.loc[data_charges.status == 'unpaid']\n",
        "data_charges.loc[data_charges['status'] == 'unpaid','status'] = 4\n",
        "data_charges.rename( columns= {'status':'transaction'},inplace = True)\n",
        "data_charges.drop('id', axis = 1, inplace = True)"
      ]
    },
    {
      "cell_type": "markdown",
      "metadata": {
        "id": "jv3raO5pfk2N"
      },
      "source": [
        "### Data Transaction "
      ]
    },
    {
      "cell_type": "code",
      "execution_count": null,
      "metadata": {
        "id": "5WefNzO1fpjA"
      },
      "outputs": [],
      "source": [
        "'''\n",
        "Alterando nome da coluna 'transaction_type_id' e excluindo a 'id'\n",
        "'''\n",
        "data_transaction.rename( columns= {'transaction_type_id':'transaction'}, inplace = True)\n",
        "data_transaction.drop('id', axis = 1, inplace = True)"
      ]
    },
    {
      "cell_type": "markdown",
      "metadata": {
        "id": "kFglygXIoj1g"
      },
      "source": [
        "## Union "
      ]
    },
    {
      "cell_type": "code",
      "execution_count": null,
      "metadata": {
        "id": "2Gci0G3UhqId"
      },
      "outputs": [],
      "source": [
        "'''\n",
        "Unificando as 3 tabelas\n",
        "'''\n",
        "full_transactions = pd.concat([data_transaction,data_charges])\n",
        "full_transactions.sort_values('account_number', ignore_index = True, inplace = True)\n",
        "data_clientes.sort_values('account_number', ignore_index = True, inplace = True)\n",
        "df = data_clientes.merge(full_transactions, on = 'account_number', validate = '1:m', how = 'left')\n",
        "\n",
        "\n",
        "\n"
      ]
    },
    {
      "cell_type": "code",
      "execution_count": null,
      "metadata": {
        "id": "F6NllM_2hqIe",
        "outputId": "a06d1d81-482e-49bd-91bf-34638cced3f0"
      },
      "outputs": [
        {
          "data": {
            "text/html": [
              "<div>\n",
              "<style scoped>\n",
              "    .dataframe tbody tr th:only-of-type {\n",
              "        vertical-align: middle;\n",
              "    }\n",
              "\n",
              "    .dataframe tbody tr th {\n",
              "        vertical-align: top;\n",
              "    }\n",
              "\n",
              "    .dataframe thead th {\n",
              "        text-align: right;\n",
              "    }\n",
              "</style>\n",
              "<table border=\"1\" class=\"dataframe\">\n",
              "  <thead>\n",
              "    <tr style=\"text-align: right;\">\n",
              "      <th></th>\n",
              "      <th>account_number</th>\n",
              "      <th>occupation</th>\n",
              "      <th>state</th>\n",
              "      <th>city</th>\n",
              "      <th>level</th>\n",
              "      <th>age</th>\n",
              "      <th>transaction</th>\n",
              "      <th>value</th>\n",
              "      <th>created_at</th>\n",
              "    </tr>\n",
              "  </thead>\n",
              "  <tbody>\n",
              "    <tr>\n",
              "      <th>4194</th>\n",
              "      <td>20424</td>\n",
              "      <td>Analista</td>\n",
              "      <td>MG</td>\n",
              "      <td>Jacui</td>\n",
              "      <td>NaN</td>\n",
              "      <td>31</td>\n",
              "      <td>3</td>\n",
              "      <td>7728.0</td>\n",
              "      <td>2021-06-30 22:30:00</td>\n",
              "    </tr>\n",
              "    <tr>\n",
              "      <th>4195</th>\n",
              "      <td>20424</td>\n",
              "      <td>Analista</td>\n",
              "      <td>MG</td>\n",
              "      <td>Jacui</td>\n",
              "      <td>NaN</td>\n",
              "      <td>31</td>\n",
              "      <td>3</td>\n",
              "      <td>6681.0</td>\n",
              "      <td>2021-06-30 19:30:00</td>\n",
              "    </tr>\n",
              "    <tr>\n",
              "      <th>4196</th>\n",
              "      <td>20424</td>\n",
              "      <td>Analista</td>\n",
              "      <td>MG</td>\n",
              "      <td>Jacui</td>\n",
              "      <td>NaN</td>\n",
              "      <td>31</td>\n",
              "      <td>3</td>\n",
              "      <td>7737.0</td>\n",
              "      <td>2021-06-03 01:30:00</td>\n",
              "    </tr>\n",
              "    <tr>\n",
              "      <th>4197</th>\n",
              "      <td>20424</td>\n",
              "      <td>Analista</td>\n",
              "      <td>MG</td>\n",
              "      <td>Jacui</td>\n",
              "      <td>NaN</td>\n",
              "      <td>31</td>\n",
              "      <td>3</td>\n",
              "      <td>7986.0</td>\n",
              "      <td>2021-06-30 15:30:00</td>\n",
              "    </tr>\n",
              "    <tr>\n",
              "      <th>4198</th>\n",
              "      <td>20424</td>\n",
              "      <td>Analista</td>\n",
              "      <td>MG</td>\n",
              "      <td>Jacui</td>\n",
              "      <td>NaN</td>\n",
              "      <td>31</td>\n",
              "      <td>3</td>\n",
              "      <td>6308.0</td>\n",
              "      <td>2021-06-03 04:00:00</td>\n",
              "    </tr>\n",
              "    <tr>\n",
              "      <th>...</th>\n",
              "      <td>...</td>\n",
              "      <td>...</td>\n",
              "      <td>...</td>\n",
              "      <td>...</td>\n",
              "      <td>...</td>\n",
              "      <td>...</td>\n",
              "      <td>...</td>\n",
              "      <td>...</td>\n",
              "      <td>...</td>\n",
              "    </tr>\n",
              "    <tr>\n",
              "      <th>311448</th>\n",
              "      <td>988259</td>\n",
              "      <td>Corretor</td>\n",
              "      <td>MG</td>\n",
              "      <td>Nova Lima</td>\n",
              "      <td>NaN</td>\n",
              "      <td>36</td>\n",
              "      <td>4</td>\n",
              "      <td>11599.0</td>\n",
              "      <td>2021-05-16 14:00:00</td>\n",
              "    </tr>\n",
              "    <tr>\n",
              "      <th>311449</th>\n",
              "      <td>988259</td>\n",
              "      <td>Corretor</td>\n",
              "      <td>MG</td>\n",
              "      <td>Nova Lima</td>\n",
              "      <td>NaN</td>\n",
              "      <td>36</td>\n",
              "      <td>4</td>\n",
              "      <td>10367.0</td>\n",
              "      <td>2021-05-06 11:00:00</td>\n",
              "    </tr>\n",
              "    <tr>\n",
              "      <th>311450</th>\n",
              "      <td>988259</td>\n",
              "      <td>Corretor</td>\n",
              "      <td>MG</td>\n",
              "      <td>Nova Lima</td>\n",
              "      <td>NaN</td>\n",
              "      <td>36</td>\n",
              "      <td>2</td>\n",
              "      <td>55623.0</td>\n",
              "      <td>2021-05-25 03:30:00</td>\n",
              "    </tr>\n",
              "    <tr>\n",
              "      <th>311451</th>\n",
              "      <td>988259</td>\n",
              "      <td>Corretor</td>\n",
              "      <td>MG</td>\n",
              "      <td>Nova Lima</td>\n",
              "      <td>NaN</td>\n",
              "      <td>36</td>\n",
              "      <td>4</td>\n",
              "      <td>8587.0</td>\n",
              "      <td>2021-05-06 14:00:00</td>\n",
              "    </tr>\n",
              "    <tr>\n",
              "      <th>311452</th>\n",
              "      <td>988259</td>\n",
              "      <td>Corretor</td>\n",
              "      <td>MG</td>\n",
              "      <td>Nova Lima</td>\n",
              "      <td>NaN</td>\n",
              "      <td>36</td>\n",
              "      <td>4</td>\n",
              "      <td>9007.0</td>\n",
              "      <td>2021-05-06 12:00:00</td>\n",
              "    </tr>\n",
              "  </tbody>\n",
              "</table>\n",
              "<p>33295 rows × 9 columns</p>\n",
              "</div>"
            ],
            "text/plain": [
              "        account_number occupation state       city level  age transaction  \\\n",
              "4194             20424   Analista    MG      Jacui   NaN   31           3   \n",
              "4195             20424   Analista    MG      Jacui   NaN   31           3   \n",
              "4196             20424   Analista    MG      Jacui   NaN   31           3   \n",
              "4197             20424   Analista    MG      Jacui   NaN   31           3   \n",
              "4198             20424   Analista    MG      Jacui   NaN   31           3   \n",
              "...                ...        ...   ...        ...   ...  ...         ...   \n",
              "311448          988259   Corretor    MG  Nova Lima   NaN   36           4   \n",
              "311449          988259   Corretor    MG  Nova Lima   NaN   36           4   \n",
              "311450          988259   Corretor    MG  Nova Lima   NaN   36           2   \n",
              "311451          988259   Corretor    MG  Nova Lima   NaN   36           4   \n",
              "311452          988259   Corretor    MG  Nova Lima   NaN   36           4   \n",
              "\n",
              "          value           created_at  \n",
              "4194     7728.0  2021-06-30 22:30:00  \n",
              "4195     6681.0  2021-06-30 19:30:00  \n",
              "4196     7737.0  2021-06-03 01:30:00  \n",
              "4197     7986.0  2021-06-30 15:30:00  \n",
              "4198     6308.0  2021-06-03 04:00:00  \n",
              "...         ...                  ...  \n",
              "311448  11599.0  2021-05-16 14:00:00  \n",
              "311449  10367.0  2021-05-06 11:00:00  \n",
              "311450  55623.0  2021-05-25 03:30:00  \n",
              "311451   8587.0  2021-05-06 14:00:00  \n",
              "311452   9007.0  2021-05-06 12:00:00  \n",
              "\n",
              "[33295 rows x 9 columns]"
            ]
          },
          "execution_count": 304,
          "metadata": {},
          "output_type": "execute_result"
        }
      ],
      "source": [
        "'''\n",
        "criando um dataframe somente com os dados que não estão classificados\n",
        "'''\n",
        "df_NA = df[df[\"level\"].isna()].copy()\n",
        "account_number_NA = df_NA['account_number'].copy()\n",
        "df_NA "
      ]
    },
    {
      "cell_type": "code",
      "execution_count": null,
      "metadata": {
        "id": "rYiAY0HghqIf"
      },
      "outputs": [],
      "source": [
        "'''\n",
        "Retirando registros com valores faltantes\n",
        "'''\n",
        "df.dropna(inplace = True)"
      ]
    },
    {
      "cell_type": "code",
      "execution_count": null,
      "metadata": {
        "id": "S5UgA1t4hqIf"
      },
      "outputs": [],
      "source": [
        "'''\n",
        "Criando nova coluna somente com a hora da transação para a criação de turnos\n",
        "'''\n",
        "df['trasaction_hour'] = pd.to_datetime(df['created_at']).dt.hour\n",
        "df.drop(['created_at'], axis = 1, inplace = True)\n",
        "\n",
        "'''\n",
        "Criando turnos para os horarios das transações para a verificação de uma possivel preferencia de turno \n",
        "pelas contas fraudulentas para a ação\n",
        "'''\n",
        "df.loc[(df['trasaction_hour'] >= 0) & (df['trasaction_hour'] < 7),'shift'] = 'madrugada'\n",
        "df.loc[(df['trasaction_hour'] >= 7) & (df['trasaction_hour'] < 13),'shift'] = 'manha'\n",
        "df.loc[(df['trasaction_hour'] >= 13) & (df['trasaction_hour'] < 19),'shift'] = 'tarde'\n",
        "df.loc[(df['trasaction_hour'] >= 19) & (df['trasaction_hour'] <= 23),'shift'] = 'noite'"
      ]
    },
    {
      "cell_type": "code",
      "execution_count": null,
      "metadata": {
        "id": "JjXaSduJhqIf",
        "outputId": "2251436a-48a3-4db9-e5f2-c9a55abbbf39"
      },
      "outputs": [
        {
          "data": {
            "text/html": [
              "<div>\n",
              "<style scoped>\n",
              "    .dataframe tbody tr th:only-of-type {\n",
              "        vertical-align: middle;\n",
              "    }\n",
              "\n",
              "    .dataframe tbody tr th {\n",
              "        vertical-align: top;\n",
              "    }\n",
              "\n",
              "    .dataframe thead th {\n",
              "        text-align: right;\n",
              "    }\n",
              "</style>\n",
              "<table border=\"1\" class=\"dataframe\">\n",
              "  <thead>\n",
              "    <tr style=\"text-align: right;\">\n",
              "      <th></th>\n",
              "      <th>account_number</th>\n",
              "      <th>occupation</th>\n",
              "      <th>state</th>\n",
              "      <th>city</th>\n",
              "      <th>level</th>\n",
              "      <th>age</th>\n",
              "      <th>transaction</th>\n",
              "      <th>value</th>\n",
              "      <th>trasaction_hour</th>\n",
              "      <th>shift</th>\n",
              "    </tr>\n",
              "  </thead>\n",
              "  <tbody>\n",
              "    <tr>\n",
              "      <th>0</th>\n",
              "      <td>2711</td>\n",
              "      <td>Corretor</td>\n",
              "      <td>GO</td>\n",
              "      <td>Campos Limpo de Goias</td>\n",
              "      <td>0</td>\n",
              "      <td>51</td>\n",
              "      <td>4</td>\n",
              "      <td>8368.0</td>\n",
              "      <td>22</td>\n",
              "      <td>noite</td>\n",
              "    </tr>\n",
              "    <tr>\n",
              "      <th>1</th>\n",
              "      <td>2711</td>\n",
              "      <td>Corretor</td>\n",
              "      <td>GO</td>\n",
              "      <td>Campos Limpo de Goias</td>\n",
              "      <td>0</td>\n",
              "      <td>51</td>\n",
              "      <td>1</td>\n",
              "      <td>8797.0</td>\n",
              "      <td>23</td>\n",
              "      <td>noite</td>\n",
              "    </tr>\n",
              "    <tr>\n",
              "      <th>2</th>\n",
              "      <td>2711</td>\n",
              "      <td>Corretor</td>\n",
              "      <td>GO</td>\n",
              "      <td>Campos Limpo de Goias</td>\n",
              "      <td>0</td>\n",
              "      <td>51</td>\n",
              "      <td>1</td>\n",
              "      <td>8270.0</td>\n",
              "      <td>23</td>\n",
              "      <td>noite</td>\n",
              "    </tr>\n",
              "    <tr>\n",
              "      <th>3</th>\n",
              "      <td>2711</td>\n",
              "      <td>Corretor</td>\n",
              "      <td>GO</td>\n",
              "      <td>Campos Limpo de Goias</td>\n",
              "      <td>0</td>\n",
              "      <td>51</td>\n",
              "      <td>3</td>\n",
              "      <td>7112.0</td>\n",
              "      <td>5</td>\n",
              "      <td>madrugada</td>\n",
              "    </tr>\n",
              "    <tr>\n",
              "      <th>4</th>\n",
              "      <td>2711</td>\n",
              "      <td>Corretor</td>\n",
              "      <td>GO</td>\n",
              "      <td>Campos Limpo de Goias</td>\n",
              "      <td>0</td>\n",
              "      <td>51</td>\n",
              "      <td>3</td>\n",
              "      <td>8604.0</td>\n",
              "      <td>17</td>\n",
              "      <td>tarde</td>\n",
              "    </tr>\n",
              "    <tr>\n",
              "      <th>...</th>\n",
              "      <td>...</td>\n",
              "      <td>...</td>\n",
              "      <td>...</td>\n",
              "      <td>...</td>\n",
              "      <td>...</td>\n",
              "      <td>...</td>\n",
              "      <td>...</td>\n",
              "      <td>...</td>\n",
              "      <td>...</td>\n",
              "      <td>...</td>\n",
              "    </tr>\n",
              "    <tr>\n",
              "      <th>314053</th>\n",
              "      <td>999828</td>\n",
              "      <td>Investidor</td>\n",
              "      <td>RJ</td>\n",
              "      <td>Casimiro de Abreu</td>\n",
              "      <td>1</td>\n",
              "      <td>36</td>\n",
              "      <td>4</td>\n",
              "      <td>3619.0</td>\n",
              "      <td>8</td>\n",
              "      <td>manha</td>\n",
              "    </tr>\n",
              "    <tr>\n",
              "      <th>314054</th>\n",
              "      <td>999828</td>\n",
              "      <td>Investidor</td>\n",
              "      <td>RJ</td>\n",
              "      <td>Casimiro de Abreu</td>\n",
              "      <td>1</td>\n",
              "      <td>36</td>\n",
              "      <td>4</td>\n",
              "      <td>3641.0</td>\n",
              "      <td>19</td>\n",
              "      <td>noite</td>\n",
              "    </tr>\n",
              "    <tr>\n",
              "      <th>314055</th>\n",
              "      <td>999828</td>\n",
              "      <td>Investidor</td>\n",
              "      <td>RJ</td>\n",
              "      <td>Casimiro de Abreu</td>\n",
              "      <td>1</td>\n",
              "      <td>36</td>\n",
              "      <td>3</td>\n",
              "      <td>3291.0</td>\n",
              "      <td>20</td>\n",
              "      <td>noite</td>\n",
              "    </tr>\n",
              "    <tr>\n",
              "      <th>314056</th>\n",
              "      <td>999828</td>\n",
              "      <td>Investidor</td>\n",
              "      <td>RJ</td>\n",
              "      <td>Casimiro de Abreu</td>\n",
              "      <td>1</td>\n",
              "      <td>36</td>\n",
              "      <td>3</td>\n",
              "      <td>3548.0</td>\n",
              "      <td>17</td>\n",
              "      <td>tarde</td>\n",
              "    </tr>\n",
              "    <tr>\n",
              "      <th>314057</th>\n",
              "      <td>999828</td>\n",
              "      <td>Investidor</td>\n",
              "      <td>RJ</td>\n",
              "      <td>Casimiro de Abreu</td>\n",
              "      <td>1</td>\n",
              "      <td>36</td>\n",
              "      <td>3</td>\n",
              "      <td>4192.0</td>\n",
              "      <td>17</td>\n",
              "      <td>tarde</td>\n",
              "    </tr>\n",
              "  </tbody>\n",
              "</table>\n",
              "<p>280629 rows × 10 columns</p>\n",
              "</div>"
            ],
            "text/plain": [
              "        account_number  occupation state                   city level  age  \\\n",
              "0                 2711    Corretor    GO  Campos Limpo de Goias     0   51   \n",
              "1                 2711    Corretor    GO  Campos Limpo de Goias     0   51   \n",
              "2                 2711    Corretor    GO  Campos Limpo de Goias     0   51   \n",
              "3                 2711    Corretor    GO  Campos Limpo de Goias     0   51   \n",
              "4                 2711    Corretor    GO  Campos Limpo de Goias     0   51   \n",
              "...                ...         ...   ...                    ...   ...  ...   \n",
              "314053          999828  Investidor    RJ      Casimiro de Abreu     1   36   \n",
              "314054          999828  Investidor    RJ      Casimiro de Abreu     1   36   \n",
              "314055          999828  Investidor    RJ      Casimiro de Abreu     1   36   \n",
              "314056          999828  Investidor    RJ      Casimiro de Abreu     1   36   \n",
              "314057          999828  Investidor    RJ      Casimiro de Abreu     1   36   \n",
              "\n",
              "       transaction   value  trasaction_hour      shift  \n",
              "0                4  8368.0               22      noite  \n",
              "1                1  8797.0               23      noite  \n",
              "2                1  8270.0               23      noite  \n",
              "3                3  7112.0                5  madrugada  \n",
              "4                3  8604.0               17      tarde  \n",
              "...            ...     ...              ...        ...  \n",
              "314053           4  3619.0                8      manha  \n",
              "314054           4  3641.0               19      noite  \n",
              "314055           3  3291.0               20      noite  \n",
              "314056           3  3548.0               17      tarde  \n",
              "314057           3  4192.0               17      tarde  \n",
              "\n",
              "[280629 rows x 10 columns]"
            ]
          },
          "execution_count": 235,
          "metadata": {},
          "output_type": "execute_result"
        }
      ],
      "source": [
        "df"
      ]
    },
    {
      "cell_type": "code",
      "execution_count": null,
      "metadata": {
        "id": "qWWFIhjXhqIg",
        "outputId": "75952d13-3850-4001-d6cf-1834392c57d5"
      },
      "outputs": [
        {
          "name": "stdout",
          "output_type": "stream",
          "text": [
            "<class 'pandas.core.frame.DataFrame'>\n",
            "Int64Index: 280629 entries, 0 to 314057\n",
            "Data columns (total 10 columns):\n",
            " #   Column           Non-Null Count   Dtype  \n",
            "---  ------           --------------   -----  \n",
            " 0   account_number   280629 non-null  int64  \n",
            " 1   occupation       280629 non-null  object \n",
            " 2   state            280629 non-null  object \n",
            " 3   city             280629 non-null  object \n",
            " 4   level            280629 non-null  object \n",
            " 5   age              280629 non-null  int64  \n",
            " 6   transaction      280629 non-null  object \n",
            " 7   value            280629 non-null  float64\n",
            " 8   trasaction_hour  280629 non-null  int64  \n",
            " 9   shift            280629 non-null  object \n",
            "dtypes: float64(1), int64(3), object(6)\n",
            "memory usage: 23.6+ MB\n"
          ]
        }
      ],
      "source": [
        "'''\n",
        "verificando tipo dos dados\n",
        "'''\n",
        "df.info()"
      ]
    },
    {
      "cell_type": "markdown",
      "metadata": {
        "id": "Y4df4OBZhqIg"
      },
      "source": [
        "## Descriptive Analysis"
      ]
    },
    {
      "cell_type": "code",
      "execution_count": null,
      "metadata": {
        "id": "sT_ZbNbghqIh",
        "outputId": "db5eefd2-06d1-478a-e7bf-27e5151ed506"
      },
      "outputs": [
        {
          "data": {
            "text/plain": [
              "Desenvolvedor    70807\n",
              "Analista         66440\n",
              "Corretor         62480\n",
              "Outros           39884\n",
              "Investidor       27481\n",
              "Autonomo         13537\n",
              "Name: occupation, dtype: int64"
            ]
          },
          "execution_count": 237,
          "metadata": {},
          "output_type": "execute_result"
        }
      ],
      "source": [
        "'''\n",
        "Verificando frequencia de registros por ocupação\n",
        "'''\n",
        "df.occupation.value_counts()"
      ]
    },
    {
      "cell_type": "code",
      "execution_count": null,
      "metadata": {
        "id": "EgbqgHn0hqIh",
        "outputId": "8c5a6f11-cd80-4b64-eee8-0b10322d7cea"
      },
      "outputs": [
        {
          "data": {
            "text/plain": [
              "3    132594\n",
              "1     86006\n",
              "4     51705\n",
              "2     10324\n",
              "Name: transaction, dtype: int64"
            ]
          },
          "execution_count": 238,
          "metadata": {},
          "output_type": "execute_result"
        }
      ],
      "source": [
        "'''\n",
        "Verificando frequencia de registros por transação\n",
        "'''\n",
        "df.transaction.value_counts()"
      ]
    },
    {
      "cell_type": "code",
      "execution_count": null,
      "metadata": {
        "id": "1Hcu4a1ChqIh",
        "outputId": "9e73897f-d436-460d-eb61-211f525ed181"
      },
      "outputs": [
        {
          "data": {
            "text/plain": [
              "MG    93589\n",
              "PR    49113\n",
              "RJ    45067\n",
              "ES    34056\n",
              "SP    15847\n",
              "BA    15549\n",
              "SC    14054\n",
              "GO    13354\n",
              "Name: state, dtype: int64"
            ]
          },
          "execution_count": 239,
          "metadata": {},
          "output_type": "execute_result"
        }
      ],
      "source": [
        "'''\n",
        "Verificando frequencia de registros por estado\n",
        "'''\n",
        "df.state.value_counts()"
      ]
    },
    {
      "cell_type": "code",
      "execution_count": null,
      "metadata": {
        "id": "qjon7fl4hqIi",
        "outputId": "9190bc8f-e3f9-4cf8-8e2a-e251d22d2730"
      },
      "outputs": [
        {
          "data": {
            "text/plain": [
              "tarde        75297\n",
              "madrugada    74979\n",
              "manha        74875\n",
              "noite        55478\n",
              "Name: shift, dtype: int64"
            ]
          },
          "execution_count": 240,
          "metadata": {},
          "output_type": "execute_result"
        }
      ],
      "source": [
        "'''\n",
        "Verificando frequencia de registros por turno\n",
        "'''\n",
        "df['shift'].value_counts()"
      ]
    },
    {
      "cell_type": "markdown",
      "metadata": {
        "id": "HpYjUbQJhqIi"
      },
      "source": [
        "### Viewing fraudulent accounts"
      ]
    },
    {
      "cell_type": "code",
      "execution_count": null,
      "metadata": {
        "id": "HJEzXLNuhqIi",
        "outputId": "4d9443f3-774c-44eb-a1dd-f0cab8451bc4"
      },
      "outputs": [
        {
          "data": {
            "text/html": [
              "<div>\n",
              "<style scoped>\n",
              "    .dataframe tbody tr th:only-of-type {\n",
              "        vertical-align: middle;\n",
              "    }\n",
              "\n",
              "    .dataframe tbody tr th {\n",
              "        vertical-align: top;\n",
              "    }\n",
              "\n",
              "    .dataframe thead th {\n",
              "        text-align: right;\n",
              "    }\n",
              "</style>\n",
              "<table border=\"1\" class=\"dataframe\">\n",
              "  <thead>\n",
              "    <tr style=\"text-align: right;\">\n",
              "      <th></th>\n",
              "      <th>account_number</th>\n",
              "      <th>occupation</th>\n",
              "      <th>state</th>\n",
              "      <th>city</th>\n",
              "      <th>level</th>\n",
              "      <th>age</th>\n",
              "      <th>transaction</th>\n",
              "      <th>value</th>\n",
              "      <th>trasaction_hour</th>\n",
              "      <th>shift</th>\n",
              "    </tr>\n",
              "  </thead>\n",
              "  <tbody>\n",
              "    <tr>\n",
              "      <th>826</th>\n",
              "      <td>2957</td>\n",
              "      <td>Outros</td>\n",
              "      <td>RJ</td>\n",
              "      <td>Paracambi</td>\n",
              "      <td>1</td>\n",
              "      <td>29</td>\n",
              "      <td>1</td>\n",
              "      <td>11114.0</td>\n",
              "      <td>7</td>\n",
              "      <td>manha</td>\n",
              "    </tr>\n",
              "    <tr>\n",
              "      <th>827</th>\n",
              "      <td>2957</td>\n",
              "      <td>Outros</td>\n",
              "      <td>RJ</td>\n",
              "      <td>Paracambi</td>\n",
              "      <td>1</td>\n",
              "      <td>29</td>\n",
              "      <td>2</td>\n",
              "      <td>81651.0</td>\n",
              "      <td>19</td>\n",
              "      <td>noite</td>\n",
              "    </tr>\n",
              "    <tr>\n",
              "      <th>828</th>\n",
              "      <td>2957</td>\n",
              "      <td>Outros</td>\n",
              "      <td>RJ</td>\n",
              "      <td>Paracambi</td>\n",
              "      <td>1</td>\n",
              "      <td>29</td>\n",
              "      <td>2</td>\n",
              "      <td>52600.0</td>\n",
              "      <td>13</td>\n",
              "      <td>tarde</td>\n",
              "    </tr>\n",
              "    <tr>\n",
              "      <th>829</th>\n",
              "      <td>2957</td>\n",
              "      <td>Outros</td>\n",
              "      <td>RJ</td>\n",
              "      <td>Paracambi</td>\n",
              "      <td>1</td>\n",
              "      <td>29</td>\n",
              "      <td>1</td>\n",
              "      <td>8129.0</td>\n",
              "      <td>3</td>\n",
              "      <td>madrugada</td>\n",
              "    </tr>\n",
              "    <tr>\n",
              "      <th>830</th>\n",
              "      <td>2957</td>\n",
              "      <td>Outros</td>\n",
              "      <td>RJ</td>\n",
              "      <td>Paracambi</td>\n",
              "      <td>1</td>\n",
              "      <td>29</td>\n",
              "      <td>3</td>\n",
              "      <td>8145.0</td>\n",
              "      <td>1</td>\n",
              "      <td>madrugada</td>\n",
              "    </tr>\n",
              "  </tbody>\n",
              "</table>\n",
              "</div>"
            ],
            "text/plain": [
              "     account_number occupation state       city level  age transaction  \\\n",
              "826            2957     Outros    RJ  Paracambi     1   29           1   \n",
              "827            2957     Outros    RJ  Paracambi     1   29           2   \n",
              "828            2957     Outros    RJ  Paracambi     1   29           2   \n",
              "829            2957     Outros    RJ  Paracambi     1   29           1   \n",
              "830            2957     Outros    RJ  Paracambi     1   29           3   \n",
              "\n",
              "       value  trasaction_hour      shift  \n",
              "826  11114.0                7      manha  \n",
              "827  81651.0               19      noite  \n",
              "828  52600.0               13      tarde  \n",
              "829   8129.0                3  madrugada  \n",
              "830   8145.0                1  madrugada  "
            ]
          },
          "execution_count": 241,
          "metadata": {},
          "output_type": "execute_result"
        }
      ],
      "source": [
        "'''\n",
        "selecionando apenas as amostras fraudulentas \n",
        "'''\n",
        "data_fraudi = df.loc[df['level'] == 1]\n",
        "data_fraudi.head()"
      ]
    },
    {
      "cell_type": "code",
      "execution_count": null,
      "metadata": {
        "id": "ZdOpH16ihqIl",
        "outputId": "49a23cbd-0a73-4c48-8938-f9b54a3df2b6"
      },
      "outputs": [
        {
          "data": {
            "text/plain": [
              "<AxesSubplot:ylabel='state'>"
            ]
          },
          "execution_count": 242,
          "metadata": {},
          "output_type": "execute_result"
        },
        {
          "data": {
            "image/png": "[encoded data removed]",
            "text/plain": [
              "<Figure size 432x288 with 1 Axes>"
            ]
          },
          "metadata": {
            "needs_background": "light"
          },
          "output_type": "display_data"
        }
      ],
      "source": [
        "'''\n",
        "Com esse gráfico de barras podemos perceber que dos 8 estados presentes na amostra,\n",
        "apenas 4 deles possuem contas fraudulentas. Percebemos também que desses 4 estados,\n",
        "a maior concentração está no estado do Paraná e depois no Rio de Janeiro. \n",
        "'''\n",
        "\n",
        "\n",
        "sns.barplot(x=data_fraudi.state.value_counts().index, y=data_fraudi.state.value_counts(), data=df)"
      ]
    },
    {
      "cell_type": "code",
      "execution_count": null,
      "metadata": {
        "id": "paW7dzP5hqIm",
        "outputId": "4dbd252d-a409-4932-af18-ebed704286f0"
      },
      "outputs": [
        {
          "data": {
            "text/plain": [
              "<AxesSubplot:ylabel='occupation'>"
            ]
          },
          "execution_count": 243,
          "metadata": {},
          "output_type": "execute_result"
        },
        {
          "data": {
            "image/png": "[encoded data removed]",
            "text/plain": [
              "<Figure size 432x288 with 1 Axes>"
            ]
          },
          "metadata": {
            "needs_background": "light"
          },
          "output_type": "display_data"
        }
      ],
      "source": [
        "'''\n",
        "Com esse gráfico verificamos que a maioria das contas fraudulentas se identificam com a ocupação\n",
        "profissional de 'Outros'.\n",
        "'''\n",
        "\n",
        "sns.barplot(x = data_fraudi.occupation.value_counts().index, \n",
        "            y = data_fraudi.occupation.value_counts(), data = df)"
      ]
    },
    {
      "cell_type": "code",
      "execution_count": null,
      "metadata": {
        "id": "oNLV_salhqIm",
        "outputId": "ca7846e0-5aea-495c-a360-822874527588"
      },
      "outputs": [
        {
          "data": {
            "text/plain": [
              "<BarContainer object of 4 artists>"
            ]
          },
          "execution_count": 244,
          "metadata": {},
          "output_type": "execute_result"
        },
        {
          "data": {
            "image/png": "[encoded data removed]",
            "text/plain": [
              "<Figure size 432x288 with 1 Axes>"
            ]
          },
          "metadata": {
            "needs_background": "light"
          },
          "output_type": "display_data"
        }
      ],
      "source": [
        "'''\n",
        "Ja nesse gráfico podemos perceber que as contas fraudulentas tiveram uma maior frequencia de\n",
        "movimentação por recebimento de pix (tipo 3). Nota-se também um número elevado de boletos que foram \n",
        "gerados mas não foram pagos (tipo 4), nivel superior até do que os boletos que foram gerados\n",
        "e foram pagos (tipo 1).  \n",
        "'''\n",
        "\n",
        "plt.bar(data_fraudi.transaction.value_counts().index, data_fraudi.transaction.value_counts(),\n",
        "        color = 'maroon', width = 0.6)"
      ]
    },
    {
      "cell_type": "code",
      "execution_count": null,
      "metadata": {
        "id": "XLFK46mLhqIn",
        "outputId": "84cac801-7d3e-4402-b761-dc49812e20c6"
      },
      "outputs": [
        {
          "data": {
            "text/plain": [
              "<BarContainer object of 4 artists>"
            ]
          },
          "execution_count": 245,
          "metadata": {},
          "output_type": "execute_result"
        },
        {
          "data": {
            "image/png": "[encoded data removed]",
            "text/plain": [
              "<Figure size 432x288 with 1 Axes>"
            ]
          },
          "metadata": {
            "needs_background": "light"
          },
          "output_type": "display_data"
        }
      ],
      "source": [
        "'''\n",
        "De acordo com esse gráfico, não é possivel verificar uma preferencia de turno pelas contas fraudulentos \n",
        "para as transações. No entanto, no gráfico anterior verificamos que as transações do tipo 3 \n",
        "(pix recebido) são as mais frequentes. Para isso, criaremos novamente esse gráfico de turno, mas agora\n",
        "filtrado apenas para as transações do tipo 3. \n",
        "'''\n",
        "\n",
        "plt.bar(data_fraudi['shift'].value_counts().index, data_fraudi['shift'].value_counts())"
      ]
    },
    {
      "cell_type": "code",
      "execution_count": null,
      "metadata": {
        "id": "CuLQLy2fhqIo",
        "outputId": "c262d32a-6621-4ed5-d208-411c079bb065"
      },
      "outputs": [
        {
          "data": {
            "text/plain": [
              "<BarContainer object of 4 artists>"
            ]
          },
          "execution_count": 247,
          "metadata": {},
          "output_type": "execute_result"
        },
        {
          "data": {
            "image/png": "[encoded data removed]",
            "text/plain": [
              "<Figure size 432x288 with 1 Axes>"
            ]
          },
          "metadata": {
            "needs_background": "light"
          },
          "output_type": "display_data"
        }
      ],
      "source": [
        "'''\n",
        "Com essa nova analise, podemos perceber que aparentemente não parece haver uma preferência de \n",
        "turno para as transações fraudulentas em relação a sua frequência. \n",
        "'''\n",
        "\n",
        "data_fraudi_pix_recebi = df.loc[df['transaction'] == 3]\n",
        "plt.bar(data_fraudi_pix_recebi['shift'].value_counts().index,\n",
        "        data_fraudi_pix_recebi['shift'].value_counts(), color = 'grey')\n",
        "       "
      ]
    },
    {
      "cell_type": "code",
      "execution_count": null,
      "metadata": {
        "id": "i1G8ASp9hqIo",
        "outputId": "78f32eaf-7d9d-4381-a538-c642ffd6c67d"
      },
      "outputs": [
        {
          "data": {
            "image/png": "[encoded data removed]",
            "text/plain": [
              "<Figure size 432x288 with 1 Axes>"
            ]
          },
          "metadata": {
            "needs_background": "light"
          },
          "output_type": "display_data"
        }
      ],
      "source": [
        "'''\n",
        "Agora analisando o valor das transações de contas fraudulentas para cada tipo, é possivel \n",
        "perceber que as do tipo 2 (Pix enviado), são as que possuem maiores valores de transação. \n",
        "Uma hipótese intuitiva é de que os fraldadores estejam enviando esses pix para suas outras contas \n",
        "ou contas de terceiros, por isso a discrepância. \n",
        "'''\n",
        "ax = sns.boxplot(x=\"transaction\", y=\"value\", data=data_fraudi)"
      ]
    },
    {
      "cell_type": "code",
      "execution_count": null,
      "metadata": {
        "id": "AuTdFdZwhqIp",
        "outputId": "4d566ca2-6f5c-45f6-8170-776c77e22154"
      },
      "outputs": [
        {
          "data": {
            "text/plain": [
              "<BarContainer object of 4 artists>"
            ]
          },
          "execution_count": 249,
          "metadata": {},
          "output_type": "execute_result"
        },
        {
          "data": {
            "image/png": "[encoded data removed]",
            "text/plain": [
              "<Figure size 432x288 with 1 Axes>"
            ]
          },
          "metadata": {
            "needs_background": "light"
          },
          "output_type": "display_data"
        }
      ],
      "source": [
        "'''\n",
        "Dessa vez visualizando se os pix enviados (tipo 2) tem alguma preferencia por turnos, percebemos também\n",
        "que aparentemente não tem. \n",
        "'''\n",
        "data_fraudi_pix_env = df.loc[df['transaction'] == 2]\n",
        "plt.bar(data_fraudi_pix_env['shift'].value_counts().index, data_fraudi_pix_env['shift'].value_counts(),\n",
        "        color = 'green')"
      ]
    },
    {
      "cell_type": "markdown",
      "metadata": {
        "id": "3dPF-wXShqIq"
      },
      "source": [
        "## Encoding\n",
        "Para o encoding optamos por retirarmos a feature 'city' e usarmos somente a 'UF' para localidade das contas. Dessa forma, deixando o modelo mais simples."
      ]
    },
    {
      "cell_type": "code",
      "execution_count": null,
      "metadata": {
        "id": "uHApZHuBhqIq"
      },
      "outputs": [],
      "source": [
        "'''\n",
        "retirando as variaveis'city' e 'trasaction_hour'\n",
        "'''\n",
        "df.drop(['city','trasaction_hour'], axis = 1, inplace = True)\n"
      ]
    },
    {
      "cell_type": "code",
      "execution_count": null,
      "metadata": {
        "id": "epJX9EZWhqIq"
      },
      "outputs": [],
      "source": [
        "'''\n",
        "salvando uma copia em 'auxi' para realizarmos o encoding\n",
        "'''\n",
        "auxi = df.copy()"
      ]
    },
    {
      "cell_type": "code",
      "execution_count": null,
      "metadata": {
        "id": "dAuIHl2BhqIq"
      },
      "outputs": [],
      "source": [
        "'''\n",
        "Retirando o 'account_number' pois não é uma variavel explicativa para o modelo e sim um identificador\n",
        "'''\n",
        "auxi.drop(['account_number'], axis = 1, inplace = True)"
      ]
    },
    {
      "cell_type": "code",
      "execution_count": null,
      "metadata": {
        "id": "6XLDRy9uhqIr",
        "outputId": "a243c316-af8b-4597-e740-a502add018cc"
      },
      "outputs": [
        {
          "data": {
            "text/html": [
              "<div>\n",
              "<style scoped>\n",
              "    .dataframe tbody tr th:only-of-type {\n",
              "        vertical-align: middle;\n",
              "    }\n",
              "\n",
              "    .dataframe tbody tr th {\n",
              "        vertical-align: top;\n",
              "    }\n",
              "\n",
              "    .dataframe thead th {\n",
              "        text-align: right;\n",
              "    }\n",
              "</style>\n",
              "<table border=\"1\" class=\"dataframe\">\n",
              "  <thead>\n",
              "    <tr style=\"text-align: right;\">\n",
              "      <th></th>\n",
              "      <th>occupation</th>\n",
              "      <th>state</th>\n",
              "      <th>level</th>\n",
              "      <th>age</th>\n",
              "      <th>transaction</th>\n",
              "      <th>value</th>\n",
              "      <th>shift</th>\n",
              "    </tr>\n",
              "  </thead>\n",
              "  <tbody>\n",
              "    <tr>\n",
              "      <th>0</th>\n",
              "      <td>Corretor</td>\n",
              "      <td>GO</td>\n",
              "      <td>0</td>\n",
              "      <td>51</td>\n",
              "      <td>4</td>\n",
              "      <td>8368.0</td>\n",
              "      <td>noite</td>\n",
              "    </tr>\n",
              "    <tr>\n",
              "      <th>1</th>\n",
              "      <td>Corretor</td>\n",
              "      <td>GO</td>\n",
              "      <td>0</td>\n",
              "      <td>51</td>\n",
              "      <td>1</td>\n",
              "      <td>8797.0</td>\n",
              "      <td>noite</td>\n",
              "    </tr>\n",
              "    <tr>\n",
              "      <th>2</th>\n",
              "      <td>Corretor</td>\n",
              "      <td>GO</td>\n",
              "      <td>0</td>\n",
              "      <td>51</td>\n",
              "      <td>1</td>\n",
              "      <td>8270.0</td>\n",
              "      <td>noite</td>\n",
              "    </tr>\n",
              "    <tr>\n",
              "      <th>3</th>\n",
              "      <td>Corretor</td>\n",
              "      <td>GO</td>\n",
              "      <td>0</td>\n",
              "      <td>51</td>\n",
              "      <td>3</td>\n",
              "      <td>7112.0</td>\n",
              "      <td>madrugada</td>\n",
              "    </tr>\n",
              "    <tr>\n",
              "      <th>4</th>\n",
              "      <td>Corretor</td>\n",
              "      <td>GO</td>\n",
              "      <td>0</td>\n",
              "      <td>51</td>\n",
              "      <td>3</td>\n",
              "      <td>8604.0</td>\n",
              "      <td>tarde</td>\n",
              "    </tr>\n",
              "  </tbody>\n",
              "</table>\n",
              "</div>"
            ],
            "text/plain": [
              "  occupation state level  age transaction   value      shift\n",
              "0   Corretor    GO     0   51           4  8368.0      noite\n",
              "1   Corretor    GO     0   51           1  8797.0      noite\n",
              "2   Corretor    GO     0   51           1  8270.0      noite\n",
              "3   Corretor    GO     0   51           3  7112.0  madrugada\n",
              "4   Corretor    GO     0   51           3  8604.0      tarde"
            ]
          },
          "execution_count": 253,
          "metadata": {},
          "output_type": "execute_result"
        }
      ],
      "source": [
        "auxi.head()"
      ]
    },
    {
      "cell_type": "markdown",
      "metadata": {
        "id": "m0i6u34bhqIr"
      },
      "source": [
        "### One-Hot Encoder"
      ]
    },
    {
      "cell_type": "code",
      "execution_count": null,
      "metadata": {
        "id": "pZ8W7GdGhqIs",
        "outputId": "fbf2f6e0-a1cf-49bd-dfe9-35a19cef2a23"
      },
      "outputs": [
        {
          "name": "stdout",
          "output_type": "stream",
          "text": [
            "<class 'pandas.core.frame.DataFrame'>\n",
            "Int64Index: 280629 entries, 0 to 314057\n",
            "Data columns (total 25 columns):\n",
            " #   Column         Non-Null Count   Dtype  \n",
            "---  ------         --------------   -----  \n",
            " 0   occupation_1   280629 non-null  int64  \n",
            " 1   occupation_2   280629 non-null  int64  \n",
            " 2   occupation_3   280629 non-null  int64  \n",
            " 3   occupation_4   280629 non-null  int64  \n",
            " 4   occupation_5   280629 non-null  int64  \n",
            " 5   occupation_6   280629 non-null  int64  \n",
            " 6   state_1        280629 non-null  int64  \n",
            " 7   state_2        280629 non-null  int64  \n",
            " 8   state_3        280629 non-null  int64  \n",
            " 9   state_4        280629 non-null  int64  \n",
            " 10  state_5        280629 non-null  int64  \n",
            " 11  state_6        280629 non-null  int64  \n",
            " 12  state_7        280629 non-null  int64  \n",
            " 13  state_8        280629 non-null  int64  \n",
            " 14  level          280629 non-null  int32  \n",
            " 15  age            280629 non-null  int64  \n",
            " 16  transaction_1  280629 non-null  int64  \n",
            " 17  transaction_2  280629 non-null  int64  \n",
            " 18  transaction_3  280629 non-null  int64  \n",
            " 19  transaction_4  280629 non-null  int64  \n",
            " 20  value          280629 non-null  float64\n",
            " 21  shift_1        280629 non-null  int64  \n",
            " 22  shift_2        280629 non-null  int64  \n",
            " 23  shift_3        280629 non-null  int64  \n",
            " 24  shift_4        280629 non-null  int64  \n",
            "dtypes: float64(1), int32(1), int64(23)\n",
            "memory usage: 54.6 MB\n"
          ]
        }
      ],
      "source": [
        "'''\n",
        "codificando as varíaveis categóricas com o onehotencoder e vericando o tipo delas após a transformação\n",
        "'''\n",
        "\n",
        "one_hot_enc = OneHotEncoder(cols = ['state', 'transaction','occupation','shift'])\n",
        "auxi = one_hot_enc.fit_transform(auxi)\n",
        "auxi['level'] = auxi['level'].astype('int')\n",
        "auxi.info()"
      ]
    },
    {
      "cell_type": "code",
      "execution_count": null,
      "metadata": {
        "id": "PoI9ZFSohqIs"
      },
      "outputs": [],
      "source": [
        "'''\n",
        "salvando uma copia do dataframe codificado \n",
        "'''\n",
        "df_encode = auxi.copy()"
      ]
    },
    {
      "cell_type": "markdown",
      "metadata": {
        "id": "T5BLwiQChqIs"
      },
      "source": [
        "# Model"
      ]
    },
    {
      "cell_type": "code",
      "execution_count": null,
      "metadata": {
        "id": "qasUmjuuhqIs",
        "outputId": "247fedab-e27a-4513-f325-16ea78c52243"
      },
      "outputs": [
        {
          "data": {
            "text/plain": [
              "level            1.000000\n",
              "state_4          0.339709\n",
              "occupation_2     0.309430\n",
              "occupation_4     0.152514\n",
              "state_3          0.118692\n",
              "occupation_5     0.117237\n",
              "transaction_4    0.096332\n",
              "transaction_1    0.088293\n",
              "value            0.027991\n",
              "shift_1          0.002111\n",
              "shift_4          0.001594\n",
              "shift_3          0.000650\n",
              "shift_2         -0.004143\n",
              "transaction_3   -0.014587\n",
              "state_7         -0.015029\n",
              "occupation_1    -0.079837\n",
              "state_1         -0.083081\n",
              "state_5         -0.085342\n",
              "state_6         -0.090020\n",
              "state_8         -0.090929\n",
              "transaction_2   -0.097784\n",
              "occupation_3    -0.150046\n",
              "age             -0.159767\n",
              "occupation_6    -0.181572\n",
              "state_2         -0.190615\n",
              "Name: level, dtype: float64"
            ]
          },
          "execution_count": 256,
          "metadata": {},
          "output_type": "execute_result"
        }
      ],
      "source": [
        "'''\n",
        "Explorando as correlações com a variável resposta\n",
        "'''\n",
        "\n",
        "auxi.corr()['level'].sort_values(ascending = False)"
      ]
    },
    {
      "cell_type": "code",
      "execution_count": null,
      "metadata": {
        "id": "PthivnFthqIt",
        "outputId": "86a0bf0b-728d-42a0-e112-6b7d6934420c"
      },
      "outputs": [
        {
          "data": {
            "text/html": [
              "<div>\n",
              "<style scoped>\n",
              "    .dataframe tbody tr th:only-of-type {\n",
              "        vertical-align: middle;\n",
              "    }\n",
              "\n",
              "    .dataframe tbody tr th {\n",
              "        vertical-align: top;\n",
              "    }\n",
              "\n",
              "    .dataframe thead th {\n",
              "        text-align: right;\n",
              "    }\n",
              "</style>\n",
              "<table border=\"1\" class=\"dataframe\">\n",
              "  <thead>\n",
              "    <tr style=\"text-align: right;\">\n",
              "      <th></th>\n",
              "      <th>occupation_1</th>\n",
              "      <th>occupation_2</th>\n",
              "      <th>occupation_3</th>\n",
              "      <th>occupation_4</th>\n",
              "      <th>occupation_5</th>\n",
              "      <th>occupation_6</th>\n",
              "      <th>state_1</th>\n",
              "      <th>state_2</th>\n",
              "      <th>state_3</th>\n",
              "      <th>state_4</th>\n",
              "      <th>...</th>\n",
              "      <th>age</th>\n",
              "      <th>transaction_1</th>\n",
              "      <th>transaction_2</th>\n",
              "      <th>transaction_3</th>\n",
              "      <th>transaction_4</th>\n",
              "      <th>value</th>\n",
              "      <th>shift_1</th>\n",
              "      <th>shift_2</th>\n",
              "      <th>shift_3</th>\n",
              "      <th>shift_4</th>\n",
              "    </tr>\n",
              "  </thead>\n",
              "  <tbody>\n",
              "    <tr>\n",
              "      <th>occupation_1</th>\n",
              "      <td>1.000000</td>\n",
              "      <td>-0.217828</td>\n",
              "      <td>-0.310890</td>\n",
              "      <td>-0.120483</td>\n",
              "      <td>-0.176329</td>\n",
              "      <td>-0.298064</td>\n",
              "      <td>-0.060641</td>\n",
              "      <td>-0.029794</td>\n",
              "      <td>0.018761</td>\n",
              "      <td>-0.014419</td>\n",
              "      <td>...</td>\n",
              "      <td>0.047388</td>\n",
              "      <td>0.010279</td>\n",
              "      <td>-0.010360</td>\n",
              "      <td>0.003413</td>\n",
              "      <td>-0.004849</td>\n",
              "      <td>-0.006339</td>\n",
              "      <td>0.000435</td>\n",
              "      <td>0.003358</td>\n",
              "      <td>-0.003370</td>\n",
              "      <td>-0.000375</td>\n",
              "    </tr>\n",
              "    <tr>\n",
              "      <th>occupation_2</th>\n",
              "      <td>-0.217828</td>\n",
              "      <td>1.000000</td>\n",
              "      <td>-0.236447</td>\n",
              "      <td>-0.091633</td>\n",
              "      <td>-0.134106</td>\n",
              "      <td>-0.226692</td>\n",
              "      <td>-0.070511</td>\n",
              "      <td>-0.095333</td>\n",
              "      <td>-0.009175</td>\n",
              "      <td>0.131250</td>\n",
              "      <td>...</td>\n",
              "      <td>-0.075229</td>\n",
              "      <td>0.021467</td>\n",
              "      <td>-0.016037</td>\n",
              "      <td>-0.011605</td>\n",
              "      <td>0.025844</td>\n",
              "      <td>0.007192</td>\n",
              "      <td>0.004030</td>\n",
              "      <td>-0.003397</td>\n",
              "      <td>-0.002798</td>\n",
              "      <td>0.002573</td>\n",
              "    </tr>\n",
              "    <tr>\n",
              "      <th>occupation_3</th>\n",
              "      <td>-0.310890</td>\n",
              "      <td>-0.236447</td>\n",
              "      <td>1.000000</td>\n",
              "      <td>-0.130781</td>\n",
              "      <td>-0.191400</td>\n",
              "      <td>-0.323541</td>\n",
              "      <td>0.107773</td>\n",
              "      <td>0.071330</td>\n",
              "      <td>-0.018191</td>\n",
              "      <td>-0.047263</td>\n",
              "      <td>...</td>\n",
              "      <td>0.023554</td>\n",
              "      <td>-0.011871</td>\n",
              "      <td>0.028319</td>\n",
              "      <td>-0.011019</td>\n",
              "      <td>-0.015686</td>\n",
              "      <td>-0.008775</td>\n",
              "      <td>-0.000679</td>\n",
              "      <td>0.000772</td>\n",
              "      <td>0.002415</td>\n",
              "      <td>-0.002580</td>\n",
              "    </tr>\n",
              "    <tr>\n",
              "      <th>occupation_4</th>\n",
              "      <td>-0.120483</td>\n",
              "      <td>-0.091633</td>\n",
              "      <td>-0.130781</td>\n",
              "      <td>1.000000</td>\n",
              "      <td>-0.074175</td>\n",
              "      <td>-0.125385</td>\n",
              "      <td>0.011470</td>\n",
              "      <td>-0.069969</td>\n",
              "      <td>-0.015760</td>\n",
              "      <td>0.053304</td>\n",
              "      <td>...</td>\n",
              "      <td>-0.068138</td>\n",
              "      <td>0.006900</td>\n",
              "      <td>-0.018497</td>\n",
              "      <td>0.007193</td>\n",
              "      <td>0.012014</td>\n",
              "      <td>0.005692</td>\n",
              "      <td>0.000745</td>\n",
              "      <td>-0.002362</td>\n",
              "      <td>0.002658</td>\n",
              "      <td>-0.000971</td>\n",
              "    </tr>\n",
              "    <tr>\n",
              "      <th>occupation_5</th>\n",
              "      <td>-0.176329</td>\n",
              "      <td>-0.134106</td>\n",
              "      <td>-0.191400</td>\n",
              "      <td>-0.074175</td>\n",
              "      <td>1.000000</td>\n",
              "      <td>-0.183504</td>\n",
              "      <td>-0.042616</td>\n",
              "      <td>0.041913</td>\n",
              "      <td>-0.008662</td>\n",
              "      <td>0.042866</td>\n",
              "      <td>...</td>\n",
              "      <td>0.003386</td>\n",
              "      <td>-0.010524</td>\n",
              "      <td>-0.024894</td>\n",
              "      <td>0.025901</td>\n",
              "      <td>0.013949</td>\n",
              "      <td>0.011684</td>\n",
              "      <td>-0.001438</td>\n",
              "      <td>0.000639</td>\n",
              "      <td>-0.003858</td>\n",
              "      <td>0.004520</td>\n",
              "    </tr>\n",
              "    <tr>\n",
              "      <th>occupation_6</th>\n",
              "      <td>-0.298064</td>\n",
              "      <td>-0.226692</td>\n",
              "      <td>-0.323541</td>\n",
              "      <td>-0.125385</td>\n",
              "      <td>-0.183504</td>\n",
              "      <td>1.000000</td>\n",
              "      <td>0.031162</td>\n",
              "      <td>0.040547</td>\n",
              "      <td>0.021763</td>\n",
              "      <td>-0.102247</td>\n",
              "      <td>...</td>\n",
              "      <td>0.023329</td>\n",
              "      <td>-0.011684</td>\n",
              "      <td>0.021105</td>\n",
              "      <td>-0.004284</td>\n",
              "      <td>-0.016265</td>\n",
              "      <td>-0.001776</td>\n",
              "      <td>-0.002413</td>\n",
              "      <td>-0.000541</td>\n",
              "      <td>0.004487</td>\n",
              "      <td>-0.001781</td>\n",
              "    </tr>\n",
              "    <tr>\n",
              "      <th>state_1</th>\n",
              "      <td>-0.060641</td>\n",
              "      <td>-0.070511</td>\n",
              "      <td>0.107773</td>\n",
              "      <td>0.011470</td>\n",
              "      <td>-0.042616</td>\n",
              "      <td>0.031162</td>\n",
              "      <td>1.000000</td>\n",
              "      <td>-0.158114</td>\n",
              "      <td>-0.097769</td>\n",
              "      <td>-0.102952</td>\n",
              "      <td>...</td>\n",
              "      <td>0.060015</td>\n",
              "      <td>-0.004077</td>\n",
              "      <td>0.011775</td>\n",
              "      <td>-0.005050</td>\n",
              "      <td>-0.007049</td>\n",
              "      <td>0.001180</td>\n",
              "      <td>-0.000125</td>\n",
              "      <td>0.001704</td>\n",
              "      <td>0.000677</td>\n",
              "      <td>-0.002271</td>\n",
              "    </tr>\n",
              "    <tr>\n",
              "      <th>state_2</th>\n",
              "      <td>-0.029794</td>\n",
              "      <td>-0.095333</td>\n",
              "      <td>0.071330</td>\n",
              "      <td>-0.069969</td>\n",
              "      <td>0.041913</td>\n",
              "      <td>0.040547</td>\n",
              "      <td>-0.158114</td>\n",
              "      <td>1.000000</td>\n",
              "      <td>-0.309401</td>\n",
              "      <td>-0.325801</td>\n",
              "      <td>...</td>\n",
              "      <td>0.074572</td>\n",
              "      <td>-0.010615</td>\n",
              "      <td>0.009201</td>\n",
              "      <td>0.007241</td>\n",
              "      <td>-0.019876</td>\n",
              "      <td>0.006452</td>\n",
              "      <td>-0.000774</td>\n",
              "      <td>0.001396</td>\n",
              "      <td>-0.000398</td>\n",
              "      <td>-0.000301</td>\n",
              "    </tr>\n",
              "    <tr>\n",
              "      <th>state_3</th>\n",
              "      <td>0.018761</td>\n",
              "      <td>-0.009175</td>\n",
              "      <td>-0.018191</td>\n",
              "      <td>-0.015760</td>\n",
              "      <td>-0.008662</td>\n",
              "      <td>0.021763</td>\n",
              "      <td>-0.097769</td>\n",
              "      <td>-0.309401</td>\n",
              "      <td>1.000000</td>\n",
              "      <td>-0.201458</td>\n",
              "      <td>...</td>\n",
              "      <td>-0.086506</td>\n",
              "      <td>0.011179</td>\n",
              "      <td>-0.018693</td>\n",
              "      <td>0.004167</td>\n",
              "      <td>0.011706</td>\n",
              "      <td>0.005502</td>\n",
              "      <td>-0.000106</td>\n",
              "      <td>-0.000243</td>\n",
              "      <td>-0.000091</td>\n",
              "      <td>0.000430</td>\n",
              "    </tr>\n",
              "    <tr>\n",
              "      <th>state_4</th>\n",
              "      <td>-0.014419</td>\n",
              "      <td>0.131250</td>\n",
              "      <td>-0.047263</td>\n",
              "      <td>0.053304</td>\n",
              "      <td>0.042866</td>\n",
              "      <td>-0.102247</td>\n",
              "      <td>-0.102952</td>\n",
              "      <td>-0.325801</td>\n",
              "      <td>-0.201458</td>\n",
              "      <td>1.000000</td>\n",
              "      <td>...</td>\n",
              "      <td>-0.037989</td>\n",
              "      <td>0.034497</td>\n",
              "      <td>-0.033135</td>\n",
              "      <td>-0.007652</td>\n",
              "      <td>0.030399</td>\n",
              "      <td>-0.000476</td>\n",
              "      <td>-0.000005</td>\n",
              "      <td>-0.001889</td>\n",
              "      <td>0.000069</td>\n",
              "      <td>0.001825</td>\n",
              "    </tr>\n",
              "    <tr>\n",
              "      <th>state_5</th>\n",
              "      <td>-0.056826</td>\n",
              "      <td>0.101373</td>\n",
              "      <td>-0.028551</td>\n",
              "      <td>-0.051692</td>\n",
              "      <td>0.013068</td>\n",
              "      <td>0.018435</td>\n",
              "      <td>-0.051324</td>\n",
              "      <td>-0.162418</td>\n",
              "      <td>-0.100431</td>\n",
              "      <td>-0.105754</td>\n",
              "      <td>...</td>\n",
              "      <td>0.022994</td>\n",
              "      <td>-0.022141</td>\n",
              "      <td>0.036989</td>\n",
              "      <td>-0.014051</td>\n",
              "      <td>-0.007727</td>\n",
              "      <td>-0.005976</td>\n",
              "      <td>0.001134</td>\n",
              "      <td>-0.001107</td>\n",
              "      <td>0.002585</td>\n",
              "      <td>-0.002503</td>\n",
              "    </tr>\n",
              "    <tr>\n",
              "      <th>state_6</th>\n",
              "      <td>0.038868</td>\n",
              "      <td>-0.040187</td>\n",
              "      <td>-0.023678</td>\n",
              "      <td>-0.002621</td>\n",
              "      <td>-0.006585</td>\n",
              "      <td>0.025089</td>\n",
              "      <td>-0.054136</td>\n",
              "      <td>-0.171320</td>\n",
              "      <td>-0.105935</td>\n",
              "      <td>-0.111550</td>\n",
              "      <td>...</td>\n",
              "      <td>-0.007155</td>\n",
              "      <td>-0.023819</td>\n",
              "      <td>0.007487</td>\n",
              "      <td>0.013518</td>\n",
              "      <td>-0.005133</td>\n",
              "      <td>-0.005626</td>\n",
              "      <td>-0.000387</td>\n",
              "      <td>0.000338</td>\n",
              "      <td>0.001124</td>\n",
              "      <td>-0.001115</td>\n",
              "    </tr>\n",
              "    <tr>\n",
              "      <th>state_7</th>\n",
              "      <td>0.077373</td>\n",
              "      <td>-0.004130</td>\n",
              "      <td>-0.031452</td>\n",
              "      <td>0.040703</td>\n",
              "      <td>-0.072404</td>\n",
              "      <td>-0.010086</td>\n",
              "      <td>-0.083071</td>\n",
              "      <td>-0.262887</td>\n",
              "      <td>-0.162555</td>\n",
              "      <td>-0.171172</td>\n",
              "      <td>...</td>\n",
              "      <td>-0.011712</td>\n",
              "      <td>0.010620</td>\n",
              "      <td>-0.002493</td>\n",
              "      <td>-0.006013</td>\n",
              "      <td>0.000181</td>\n",
              "      <td>0.000361</td>\n",
              "      <td>0.001080</td>\n",
              "      <td>-0.001656</td>\n",
              "      <td>0.000302</td>\n",
              "      <td>0.000382</td>\n",
              "    </tr>\n",
              "    <tr>\n",
              "      <th>state_8</th>\n",
              "      <td>0.016394</td>\n",
              "      <td>0.008169</td>\n",
              "      <td>-0.043413</td>\n",
              "      <td>0.063516</td>\n",
              "      <td>-0.006484</td>\n",
              "      <td>-0.005877</td>\n",
              "      <td>-0.054683</td>\n",
              "      <td>-0.173051</td>\n",
              "      <td>-0.107005</td>\n",
              "      <td>-0.112677</td>\n",
              "      <td>...</td>\n",
              "      <td>-0.005599</td>\n",
              "      <td>-0.019622</td>\n",
              "      <td>0.015781</td>\n",
              "      <td>0.004220</td>\n",
              "      <td>-0.009430</td>\n",
              "      <td>-0.011522</td>\n",
              "      <td>-0.000342</td>\n",
              "      <td>0.002127</td>\n",
              "      <td>-0.003763</td>\n",
              "      <td>0.001949</td>\n",
              "    </tr>\n",
              "    <tr>\n",
              "      <th>level</th>\n",
              "      <td>-0.079837</td>\n",
              "      <td>0.309430</td>\n",
              "      <td>-0.150046</td>\n",
              "      <td>0.152514</td>\n",
              "      <td>0.117237</td>\n",
              "      <td>-0.181572</td>\n",
              "      <td>-0.083081</td>\n",
              "      <td>-0.190615</td>\n",
              "      <td>0.118692</td>\n",
              "      <td>0.339709</td>\n",
              "      <td>...</td>\n",
              "      <td>-0.159767</td>\n",
              "      <td>0.088293</td>\n",
              "      <td>-0.097784</td>\n",
              "      <td>-0.014587</td>\n",
              "      <td>0.096332</td>\n",
              "      <td>0.027991</td>\n",
              "      <td>0.002111</td>\n",
              "      <td>-0.004143</td>\n",
              "      <td>0.000650</td>\n",
              "      <td>0.001594</td>\n",
              "    </tr>\n",
              "    <tr>\n",
              "      <th>age</th>\n",
              "      <td>0.047388</td>\n",
              "      <td>-0.075229</td>\n",
              "      <td>0.023554</td>\n",
              "      <td>-0.068138</td>\n",
              "      <td>0.003386</td>\n",
              "      <td>0.023329</td>\n",
              "      <td>0.060015</td>\n",
              "      <td>0.074572</td>\n",
              "      <td>-0.086506</td>\n",
              "      <td>-0.037989</td>\n",
              "      <td>...</td>\n",
              "      <td>1.000000</td>\n",
              "      <td>-0.010400</td>\n",
              "      <td>0.023834</td>\n",
              "      <td>-0.007800</td>\n",
              "      <td>-0.016269</td>\n",
              "      <td>0.010336</td>\n",
              "      <td>-0.001161</td>\n",
              "      <td>-0.000812</td>\n",
              "      <td>0.000668</td>\n",
              "      <td>0.001188</td>\n",
              "    </tr>\n",
              "    <tr>\n",
              "      <th>transaction_1</th>\n",
              "      <td>0.010279</td>\n",
              "      <td>0.021467</td>\n",
              "      <td>-0.011871</td>\n",
              "      <td>0.006900</td>\n",
              "      <td>-0.010524</td>\n",
              "      <td>-0.011684</td>\n",
              "      <td>-0.004077</td>\n",
              "      <td>-0.010615</td>\n",
              "      <td>0.011179</td>\n",
              "      <td>0.034497</td>\n",
              "      <td>...</td>\n",
              "      <td>-0.010400</td>\n",
              "      <td>1.000000</td>\n",
              "      <td>-0.315928</td>\n",
              "      <td>-0.449780</td>\n",
              "      <td>-0.092879</td>\n",
              "      <td>-0.063376</td>\n",
              "      <td>-0.000176</td>\n",
              "      <td>0.001295</td>\n",
              "      <td>-0.000212</td>\n",
              "      <td>-0.000924</td>\n",
              "    </tr>\n",
              "    <tr>\n",
              "      <th>transaction_2</th>\n",
              "      <td>-0.010360</td>\n",
              "      <td>-0.016037</td>\n",
              "      <td>0.028319</td>\n",
              "      <td>-0.018497</td>\n",
              "      <td>-0.024894</td>\n",
              "      <td>0.021105</td>\n",
              "      <td>0.011775</td>\n",
              "      <td>0.009201</td>\n",
              "      <td>-0.018693</td>\n",
              "      <td>-0.033135</td>\n",
              "      <td>...</td>\n",
              "      <td>0.023834</td>\n",
              "      <td>-0.315928</td>\n",
              "      <td>1.000000</td>\n",
              "      <td>-0.629140</td>\n",
              "      <td>-0.129916</td>\n",
              "      <td>-0.095956</td>\n",
              "      <td>0.000628</td>\n",
              "      <td>-0.002677</td>\n",
              "      <td>0.001819</td>\n",
              "      <td>0.000291</td>\n",
              "    </tr>\n",
              "    <tr>\n",
              "      <th>transaction_3</th>\n",
              "      <td>0.003413</td>\n",
              "      <td>-0.011605</td>\n",
              "      <td>-0.011019</td>\n",
              "      <td>0.007193</td>\n",
              "      <td>0.025901</td>\n",
              "      <td>-0.004284</td>\n",
              "      <td>-0.005050</td>\n",
              "      <td>0.007241</td>\n",
              "      <td>0.004167</td>\n",
              "      <td>-0.007652</td>\n",
              "      <td>...</td>\n",
              "      <td>-0.007800</td>\n",
              "      <td>-0.449780</td>\n",
              "      <td>-0.629140</td>\n",
              "      <td>1.000000</td>\n",
              "      <td>-0.184960</td>\n",
              "      <td>-0.133064</td>\n",
              "      <td>-0.000371</td>\n",
              "      <td>0.001505</td>\n",
              "      <td>-0.000982</td>\n",
              "      <td>-0.000187</td>\n",
              "    </tr>\n",
              "    <tr>\n",
              "      <th>transaction_4</th>\n",
              "      <td>-0.004849</td>\n",
              "      <td>0.025844</td>\n",
              "      <td>-0.015686</td>\n",
              "      <td>0.012014</td>\n",
              "      <td>0.013949</td>\n",
              "      <td>-0.016265</td>\n",
              "      <td>-0.007049</td>\n",
              "      <td>-0.019876</td>\n",
              "      <td>0.011706</td>\n",
              "      <td>0.030399</td>\n",
              "      <td>...</td>\n",
              "      <td>-0.016269</td>\n",
              "      <td>-0.092879</td>\n",
              "      <td>-0.129916</td>\n",
              "      <td>-0.184960</td>\n",
              "      <td>1.000000</td>\n",
              "      <td>0.718433</td>\n",
              "      <td>-0.000189</td>\n",
              "      <td>-0.000102</td>\n",
              "      <td>-0.001414</td>\n",
              "      <td>0.001688</td>\n",
              "    </tr>\n",
              "    <tr>\n",
              "      <th>value</th>\n",
              "      <td>-0.006339</td>\n",
              "      <td>0.007192</td>\n",
              "      <td>-0.008775</td>\n",
              "      <td>0.005692</td>\n",
              "      <td>0.011684</td>\n",
              "      <td>-0.001776</td>\n",
              "      <td>0.001180</td>\n",
              "      <td>0.006452</td>\n",
              "      <td>0.005502</td>\n",
              "      <td>-0.000476</td>\n",
              "      <td>...</td>\n",
              "      <td>0.010336</td>\n",
              "      <td>-0.063376</td>\n",
              "      <td>-0.095956</td>\n",
              "      <td>-0.133064</td>\n",
              "      <td>0.718433</td>\n",
              "      <td>1.000000</td>\n",
              "      <td>-0.000648</td>\n",
              "      <td>-0.000603</td>\n",
              "      <td>-0.000342</td>\n",
              "      <td>0.001530</td>\n",
              "    </tr>\n",
              "    <tr>\n",
              "      <th>shift_1</th>\n",
              "      <td>0.000435</td>\n",
              "      <td>0.004030</td>\n",
              "      <td>-0.000679</td>\n",
              "      <td>0.000745</td>\n",
              "      <td>-0.001438</td>\n",
              "      <td>-0.002413</td>\n",
              "      <td>-0.000125</td>\n",
              "      <td>-0.000774</td>\n",
              "      <td>-0.000106</td>\n",
              "      <td>-0.000005</td>\n",
              "      <td>...</td>\n",
              "      <td>-0.001161</td>\n",
              "      <td>-0.000176</td>\n",
              "      <td>0.000628</td>\n",
              "      <td>-0.000371</td>\n",
              "      <td>-0.000189</td>\n",
              "      <td>-0.000648</td>\n",
              "      <td>1.000000</td>\n",
              "      <td>-0.299729</td>\n",
              "      <td>-0.300597</td>\n",
              "      <td>-0.299445</td>\n",
              "    </tr>\n",
              "    <tr>\n",
              "      <th>shift_2</th>\n",
              "      <td>0.003358</td>\n",
              "      <td>-0.003397</td>\n",
              "      <td>0.000772</td>\n",
              "      <td>-0.002362</td>\n",
              "      <td>0.000639</td>\n",
              "      <td>-0.000541</td>\n",
              "      <td>0.001704</td>\n",
              "      <td>0.001396</td>\n",
              "      <td>-0.000243</td>\n",
              "      <td>-0.001889</td>\n",
              "      <td>...</td>\n",
              "      <td>-0.000812</td>\n",
              "      <td>0.001295</td>\n",
              "      <td>-0.002677</td>\n",
              "      <td>0.001505</td>\n",
              "      <td>-0.000102</td>\n",
              "      <td>-0.000603</td>\n",
              "      <td>-0.299729</td>\n",
              "      <td>1.000000</td>\n",
              "      <td>-0.365650</td>\n",
              "      <td>-0.364250</td>\n",
              "    </tr>\n",
              "    <tr>\n",
              "      <th>shift_3</th>\n",
              "      <td>-0.003370</td>\n",
              "      <td>-0.002798</td>\n",
              "      <td>0.002415</td>\n",
              "      <td>0.002658</td>\n",
              "      <td>-0.003858</td>\n",
              "      <td>0.004487</td>\n",
              "      <td>0.000677</td>\n",
              "      <td>-0.000398</td>\n",
              "      <td>-0.000091</td>\n",
              "      <td>0.000069</td>\n",
              "      <td>...</td>\n",
              "      <td>0.000668</td>\n",
              "      <td>-0.000212</td>\n",
              "      <td>0.001819</td>\n",
              "      <td>-0.000982</td>\n",
              "      <td>-0.001414</td>\n",
              "      <td>-0.000342</td>\n",
              "      <td>-0.300597</td>\n",
              "      <td>-0.365650</td>\n",
              "      <td>1.000000</td>\n",
              "      <td>-0.365304</td>\n",
              "    </tr>\n",
              "    <tr>\n",
              "      <th>shift_4</th>\n",
              "      <td>-0.000375</td>\n",
              "      <td>0.002573</td>\n",
              "      <td>-0.002580</td>\n",
              "      <td>-0.000971</td>\n",
              "      <td>0.004520</td>\n",
              "      <td>-0.001781</td>\n",
              "      <td>-0.002271</td>\n",
              "      <td>-0.000301</td>\n",
              "      <td>0.000430</td>\n",
              "      <td>0.001825</td>\n",
              "      <td>...</td>\n",
              "      <td>0.001188</td>\n",
              "      <td>-0.000924</td>\n",
              "      <td>0.000291</td>\n",
              "      <td>-0.000187</td>\n",
              "      <td>0.001688</td>\n",
              "      <td>0.001530</td>\n",
              "      <td>-0.299445</td>\n",
              "      <td>-0.364250</td>\n",
              "      <td>-0.365304</td>\n",
              "      <td>1.000000</td>\n",
              "    </tr>\n",
              "  </tbody>\n",
              "</table>\n",
              "<p>25 rows × 25 columns</p>\n",
              "</div>"
            ],
            "text/plain": [
              "               occupation_1  occupation_2  occupation_3  occupation_4  \\\n",
              "occupation_1       1.000000     -0.217828     -0.310890     -0.120483   \n",
              "occupation_2      -0.217828      1.000000     -0.236447     -0.091633   \n",
              "occupation_3      -0.310890     -0.236447      1.000000     -0.130781   \n",
              "occupation_4      -0.120483     -0.091633     -0.130781      1.000000   \n",
              "occupation_5      -0.176329     -0.134106     -0.191400     -0.074175   \n",
              "occupation_6      -0.298064     -0.226692     -0.323541     -0.125385   \n",
              "state_1           -0.060641     -0.070511      0.107773      0.011470   \n",
              "state_2           -0.029794     -0.095333      0.071330     -0.069969   \n",
              "state_3            0.018761     -0.009175     -0.018191     -0.015760   \n",
              "state_4           -0.014419      0.131250     -0.047263      0.053304   \n",
              "state_5           -0.056826      0.101373     -0.028551     -0.051692   \n",
              "state_6            0.038868     -0.040187     -0.023678     -0.002621   \n",
              "state_7            0.077373     -0.004130     -0.031452      0.040703   \n",
              "state_8            0.016394      0.008169     -0.043413      0.063516   \n",
              "level             -0.079837      0.309430     -0.150046      0.152514   \n",
              "age                0.047388     -0.075229      0.023554     -0.068138   \n",
              "transaction_1      0.010279      0.021467     -0.011871      0.006900   \n",
              "transaction_2     -0.010360     -0.016037      0.028319     -0.018497   \n",
              "transaction_3      0.003413     -0.011605     -0.011019      0.007193   \n",
              "transaction_4     -0.004849      0.025844     -0.015686      0.012014   \n",
              "value             -0.006339      0.007192     -0.008775      0.005692   \n",
              "shift_1            0.000435      0.004030     -0.000679      0.000745   \n",
              "shift_2            0.003358     -0.003397      0.000772     -0.002362   \n",
              "shift_3           -0.003370     -0.002798      0.002415      0.002658   \n",
              "shift_4           -0.000375      0.002573     -0.002580     -0.000971   \n",
              "\n",
              "               occupation_5  occupation_6   state_1   state_2   state_3  \\\n",
              "occupation_1      -0.176329     -0.298064 -0.060641 -0.029794  0.018761   \n",
              "occupation_2      -0.134106     -0.226692 -0.070511 -0.095333 -0.009175   \n",
              "occupation_3      -0.191400     -0.323541  0.107773  0.071330 -0.018191   \n",
              "occupation_4      -0.074175     -0.125385  0.011470 -0.069969 -0.015760   \n",
              "occupation_5       1.000000     -0.183504 -0.042616  0.041913 -0.008662   \n",
              "occupation_6      -0.183504      1.000000  0.031162  0.040547  0.021763   \n",
              "state_1           -0.042616      0.031162  1.000000 -0.158114 -0.097769   \n",
              "state_2            0.041913      0.040547 -0.158114  1.000000 -0.309401   \n",
              "state_3           -0.008662      0.021763 -0.097769 -0.309401  1.000000   \n",
              "state_4            0.042866     -0.102247 -0.102952 -0.325801 -0.201458   \n",
              "state_5            0.013068      0.018435 -0.051324 -0.162418 -0.100431   \n",
              "state_6           -0.006585      0.025089 -0.054136 -0.171320 -0.105935   \n",
              "state_7           -0.072404     -0.010086 -0.083071 -0.262887 -0.162555   \n",
              "state_8           -0.006484     -0.005877 -0.054683 -0.173051 -0.107005   \n",
              "level              0.117237     -0.181572 -0.083081 -0.190615  0.118692   \n",
              "age                0.003386      0.023329  0.060015  0.074572 -0.086506   \n",
              "transaction_1     -0.010524     -0.011684 -0.004077 -0.010615  0.011179   \n",
              "transaction_2     -0.024894      0.021105  0.011775  0.009201 -0.018693   \n",
              "transaction_3      0.025901     -0.004284 -0.005050  0.007241  0.004167   \n",
              "transaction_4      0.013949     -0.016265 -0.007049 -0.019876  0.011706   \n",
              "value              0.011684     -0.001776  0.001180  0.006452  0.005502   \n",
              "shift_1           -0.001438     -0.002413 -0.000125 -0.000774 -0.000106   \n",
              "shift_2            0.000639     -0.000541  0.001704  0.001396 -0.000243   \n",
              "shift_3           -0.003858      0.004487  0.000677 -0.000398 -0.000091   \n",
              "shift_4            0.004520     -0.001781 -0.002271 -0.000301  0.000430   \n",
              "\n",
              "                state_4  ...       age  transaction_1  transaction_2  \\\n",
              "occupation_1  -0.014419  ...  0.047388       0.010279      -0.010360   \n",
              "occupation_2   0.131250  ... -0.075229       0.021467      -0.016037   \n",
              "occupation_3  -0.047263  ...  0.023554      -0.011871       0.028319   \n",
              "occupation_4   0.053304  ... -0.068138       0.006900      -0.018497   \n",
              "occupation_5   0.042866  ...  0.003386      -0.010524      -0.024894   \n",
              "occupation_6  -0.102247  ...  0.023329      -0.011684       0.021105   \n",
              "state_1       -0.102952  ...  0.060015      -0.004077       0.011775   \n",
              "state_2       -0.325801  ...  0.074572      -0.010615       0.009201   \n",
              "state_3       -0.201458  ... -0.086506       0.011179      -0.018693   \n",
              "state_4        1.000000  ... -0.037989       0.034497      -0.033135   \n",
              "state_5       -0.105754  ...  0.022994      -0.022141       0.036989   \n",
              "state_6       -0.111550  ... -0.007155      -0.023819       0.007487   \n",
              "state_7       -0.171172  ... -0.011712       0.010620      -0.002493   \n",
              "state_8       -0.112677  ... -0.005599      -0.019622       0.015781   \n",
              "level          0.339709  ... -0.159767       0.088293      -0.097784   \n",
              "age           -0.037989  ...  1.000000      -0.010400       0.023834   \n",
              "transaction_1  0.034497  ... -0.010400       1.000000      -0.315928   \n",
              "transaction_2 -0.033135  ...  0.023834      -0.315928       1.000000   \n",
              "transaction_3 -0.007652  ... -0.007800      -0.449780      -0.629140   \n",
              "transaction_4  0.030399  ... -0.016269      -0.092879      -0.129916   \n",
              "value         -0.000476  ...  0.010336      -0.063376      -0.095956   \n",
              "shift_1       -0.000005  ... -0.001161      -0.000176       0.000628   \n",
              "shift_2       -0.001889  ... -0.000812       0.001295      -0.002677   \n",
              "shift_3        0.000069  ...  0.000668      -0.000212       0.001819   \n",
              "shift_4        0.001825  ...  0.001188      -0.000924       0.000291   \n",
              "\n",
              "               transaction_3  transaction_4     value   shift_1   shift_2  \\\n",
              "occupation_1        0.003413      -0.004849 -0.006339  0.000435  0.003358   \n",
              "occupation_2       -0.011605       0.025844  0.007192  0.004030 -0.003397   \n",
              "occupation_3       -0.011019      -0.015686 -0.008775 -0.000679  0.000772   \n",
              "occupation_4        0.007193       0.012014  0.005692  0.000745 -0.002362   \n",
              "occupation_5        0.025901       0.013949  0.011684 -0.001438  0.000639   \n",
              "occupation_6       -0.004284      -0.016265 -0.001776 -0.002413 -0.000541   \n",
              "state_1            -0.005050      -0.007049  0.001180 -0.000125  0.001704   \n",
              "state_2             0.007241      -0.019876  0.006452 -0.000774  0.001396   \n",
              "state_3             0.004167       0.011706  0.005502 -0.000106 -0.000243   \n",
              "state_4            -0.007652       0.030399 -0.000476 -0.000005 -0.001889   \n",
              "state_5            -0.014051      -0.007727 -0.005976  0.001134 -0.001107   \n",
              "state_6             0.013518      -0.005133 -0.005626 -0.000387  0.000338   \n",
              "state_7            -0.006013       0.000181  0.000361  0.001080 -0.001656   \n",
              "state_8             0.004220      -0.009430 -0.011522 -0.000342  0.002127   \n",
              "level              -0.014587       0.096332  0.027991  0.002111 -0.004143   \n",
              "age                -0.007800      -0.016269  0.010336 -0.001161 -0.000812   \n",
              "transaction_1      -0.449780      -0.092879 -0.063376 -0.000176  0.001295   \n",
              "transaction_2      -0.629140      -0.129916 -0.095956  0.000628 -0.002677   \n",
              "transaction_3       1.000000      -0.184960 -0.133064 -0.000371  0.001505   \n",
              "transaction_4      -0.184960       1.000000  0.718433 -0.000189 -0.000102   \n",
              "value              -0.133064       0.718433  1.000000 -0.000648 -0.000603   \n",
              "shift_1            -0.000371      -0.000189 -0.000648  1.000000 -0.299729   \n",
              "shift_2             0.001505      -0.000102 -0.000603 -0.299729  1.000000   \n",
              "shift_3            -0.000982      -0.001414 -0.000342 -0.300597 -0.365650   \n",
              "shift_4            -0.000187       0.001688  0.001530 -0.299445 -0.364250   \n",
              "\n",
              "                shift_3   shift_4  \n",
              "occupation_1  -0.003370 -0.000375  \n",
              "occupation_2  -0.002798  0.002573  \n",
              "occupation_3   0.002415 -0.002580  \n",
              "occupation_4   0.002658 -0.000971  \n",
              "occupation_5  -0.003858  0.004520  \n",
              "occupation_6   0.004487 -0.001781  \n",
              "state_1        0.000677 -0.002271  \n",
              "state_2       -0.000398 -0.000301  \n",
              "state_3       -0.000091  0.000430  \n",
              "state_4        0.000069  0.001825  \n",
              "state_5        0.002585 -0.002503  \n",
              "state_6        0.001124 -0.001115  \n",
              "state_7        0.000302  0.000382  \n",
              "state_8       -0.003763  0.001949  \n",
              "level          0.000650  0.001594  \n",
              "age            0.000668  0.001188  \n",
              "transaction_1 -0.000212 -0.000924  \n",
              "transaction_2  0.001819  0.000291  \n",
              "transaction_3 -0.000982 -0.000187  \n",
              "transaction_4 -0.001414  0.001688  \n",
              "value         -0.000342  0.001530  \n",
              "shift_1       -0.300597 -0.299445  \n",
              "shift_2       -0.365650 -0.364250  \n",
              "shift_3        1.000000 -0.365304  \n",
              "shift_4       -0.365304  1.000000  \n",
              "\n",
              "[25 rows x 25 columns]"
            ]
          },
          "execution_count": 257,
          "metadata": {},
          "output_type": "execute_result"
        }
      ],
      "source": [
        "'''\n",
        "Explorando a correlação entre todas as variáveis\n",
        "'''\n",
        "auxi.corr()"
      ]
    },
    {
      "cell_type": "code",
      "execution_count": null,
      "metadata": {
        "id": "DLqA3uenhqIt",
        "outputId": "5e1174fb-cdf1-42aa-d185-0f973a3d5096"
      },
      "outputs": [
        {
          "data": {
            "text/plain": [
              "<AxesSubplot:xlabel='level', ylabel='count'>"
            ]
          },
          "execution_count": 258,
          "metadata": {},
          "output_type": "execute_result"
        },
        {
          "data": {
            "image/png": "[encoded data removed]",
            "text/plain": [
              "<Figure size 432x288 with 1 Axes>"
            ]
          },
          "metadata": {
            "needs_background": "light"
          },
          "output_type": "display_data"
        }
      ],
      "source": [
        "'''\n",
        "Verificando o balanceamento da variável level. Há um forte desbalanceamento.\n",
        "\n",
        "Para que o modelo seja bem ajustado é preciso que a variável de interesse esteja bem balanceada\n",
        "'''\n",
        "\n",
        "auxi['level'].value_counts()\n",
        "sns.countplot(auxi['level'])"
      ]
    },
    {
      "cell_type": "code",
      "execution_count": null,
      "metadata": {
        "id": "t2OCkAmuhqIu"
      },
      "outputs": [],
      "source": [
        "'''\n",
        "Separando as variáveis explicativas da variável resposta\n",
        "'''\n",
        "X = auxi.drop('level', axis = 1)\n",
        "y = auxi['level']"
      ]
    },
    {
      "cell_type": "code",
      "execution_count": null,
      "metadata": {
        "id": "Mf0sD6QPhqIu"
      },
      "outputs": [],
      "source": [
        "'''\n",
        "Balanceando nossa variável 'level'\n",
        "'''\n",
        "smt = SMOTE()\n",
        "X, y = smt.fit_resample(X,y)"
      ]
    },
    {
      "cell_type": "code",
      "execution_count": null,
      "metadata": {
        "id": "ujvZNGs4hqIu",
        "outputId": "8c783cf1-9fe4-4626-f448-a9838859e697"
      },
      "outputs": [
        {
          "data": {
            "text/plain": [
              "array([246566, 246566], dtype=int64)"
            ]
          },
          "execution_count": 261,
          "metadata": {},
          "output_type": "execute_result"
        }
      ],
      "source": [
        "'''\n",
        "Nova contagem para variável resposta após o balanceamento \n",
        "'''\n",
        "yi = y.astype(int)\n",
        "np.bincount(yi)"
      ]
    },
    {
      "cell_type": "code",
      "execution_count": null,
      "metadata": {
        "id": "A-iVrR4VhqIu",
        "outputId": "3e023057-405e-49c1-d12e-bf9f8bf0bf1c"
      },
      "outputs": [
        {
          "data": {
            "image/png": "[encoded data removed]",
            "text/plain": [
              "<Figure size 432x288 with 1 Axes>"
            ]
          },
          "metadata": {
            "needs_background": "light"
          },
          "output_type": "display_data"
        }
      ],
      "source": [
        "'''\n",
        "Com esse gráfico fica evidente que agora a varíavel \"level\" está balanceada \n",
        "'''\n",
        "\n",
        "ax = sns.countplot(x = yi)"
      ]
    },
    {
      "cell_type": "code",
      "execution_count": null,
      "metadata": {
        "id": "yO9fMIgnhqIv"
      },
      "outputs": [],
      "source": [
        "'''\n",
        "Separando dados de treino e dados de teste\n",
        "'''\n",
        "\n",
        "X_train, X_val, y_train, y_val = train_test_split(X, y, test_size = 0.2, random_state = 8,stratify = y)"
      ]
    },
    {
      "cell_type": "markdown",
      "metadata": {
        "id": "XS9FQ0CyhqIv"
      },
      "source": [
        "# Criando os Modelos "
      ]
    },
    {
      "cell_type": "markdown",
      "metadata": {
        "id": "CswNjns2hqIv"
      },
      "source": [
        "## XGBoost"
      ]
    },
    {
      "cell_type": "code",
      "execution_count": null,
      "metadata": {
        "id": "0667k8x8hqIw"
      },
      "outputs": [],
      "source": [
        "model_1 = XGBClassifier()"
      ]
    },
    {
      "cell_type": "code",
      "execution_count": null,
      "metadata": {
        "id": "MX4CqWrThqIw",
        "outputId": "1b2e8d82-92c5-4210-f2d3-00f7847f7f13"
      },
      "outputs": [
        {
          "data": {
            "text/html": [
              "<style>#sk-container-id-1 {color: black;background-color: white;}#sk-container-id-1 pre{padding: 0;}#sk-container-id-1 div.sk-toggleable {background-color: white;}#sk-container-id-1 label.sk-toggleable__label {cursor: pointer;display: block;width: 100%;margin-bottom: 0;padding: 0.3em;box-sizing: border-box;text-align: center;}#sk-container-id-1 label.sk-toggleable__label-arrow:before {content: \"▸\";float: left;margin-right: 0.25em;color: #696969;}#sk-container-id-1 label.sk-toggleable__label-arrow:hover:before {color: black;}#sk-container-id-1 div.sk-estimator:hover label.sk-toggleable__label-arrow:before {color: black;}#sk-container-id-1 div.sk-toggleable__content {max-height: 0;max-width: 0;overflow: hidden;text-align: left;background-color: #f0f8ff;}#sk-container-id-1 div.sk-toggleable__content pre {margin: 0.2em;color: black;border-radius: 0.25em;background-color: #f0f8ff;}#sk-container-id-1 input.sk-toggleable__control:checked~div.sk-toggleable__content {max-height: 200px;max-width: 100%;overflow: auto;}#sk-container-id-1 input.sk-toggleable__control:checked~label.sk-toggleable__label-arrow:before {content: \"▾\";}#sk-container-id-1 div.sk-estimator input.sk-toggleable__control:checked~label.sk-toggleable__label {background-color: #d4ebff;}#sk-container-id-1 div.sk-label input.sk-toggleable__control:checked~label.sk-toggleable__label {background-color: #d4ebff;}#sk-container-id-1 input.sk-hidden--visually {border: 0;clip: rect(1px 1px 1px 1px);clip: rect(1px, 1px, 1px, 1px);height: 1px;margin: -1px;overflow: hidden;padding: 0;position: absolute;width: 1px;}#sk-container-id-1 div.sk-estimator {font-family: monospace;background-color: #f0f8ff;border: 1px dotted black;border-radius: 0.25em;box-sizing: border-box;margin-bottom: 0.5em;}#sk-container-id-1 div.sk-estimator:hover {background-color: #d4ebff;}#sk-container-id-1 div.sk-parallel-item::after {content: \"\";width: 100%;border-bottom: 1px solid gray;flex-grow: 1;}#sk-container-id-1 div.sk-label:hover label.sk-toggleable__label {background-color: #d4ebff;}#sk-container-id-1 div.sk-serial::before {content: \"\";position: absolute;border-left: 1px solid gray;box-sizing: border-box;top: 0;bottom: 0;left: 50%;z-index: 0;}#sk-container-id-1 div.sk-serial {display: flex;flex-direction: column;align-items: center;background-color: white;padding-right: 0.2em;padding-left: 0.2em;position: relative;}#sk-container-id-1 div.sk-item {position: relative;z-index: 1;}#sk-container-id-1 div.sk-parallel {display: flex;align-items: stretch;justify-content: center;background-color: white;position: relative;}#sk-container-id-1 div.sk-item::before, #sk-container-id-1 div.sk-parallel-item::before {content: \"\";position: absolute;border-left: 1px solid gray;box-sizing: border-box;top: 0;bottom: 0;left: 50%;z-index: -1;}#sk-container-id-1 div.sk-parallel-item {display: flex;flex-direction: column;z-index: 1;position: relative;background-color: white;}#sk-container-id-1 div.sk-parallel-item:first-child::after {align-self: flex-end;width: 50%;}#sk-container-id-1 div.sk-parallel-item:last-child::after {align-self: flex-start;width: 50%;}#sk-container-id-1 div.sk-parallel-item:only-child::after {width: 0;}#sk-container-id-1 div.sk-dashed-wrapped {border: 1px dashed gray;margin: 0 0.4em 0.5em 0.4em;box-sizing: border-box;padding-bottom: 0.4em;background-color: white;}#sk-container-id-1 div.sk-label label {font-family: monospace;font-weight: bold;display: inline-block;line-height: 1.2em;}#sk-container-id-1 div.sk-label-container {text-align: center;}#sk-container-id-1 div.sk-container {/* jupyter's `normalize.less` sets `[hidden] { display: none; }` but bootstrap.min.css set `[hidden] { display: none !important; }` so we also need the `!important` here to be able to override the default hidden behavior on the sphinx rendered scikit-learn.org. See: https://github.com/scikit-learn/scikit-learn/issues/21755 */display: inline-block !important;position: relative;}#sk-container-id-1 div.sk-text-repr-fallback {display: none;}</style><div id=\"sk-container-id-1\" class=\"sk-top-container\"><div class=\"sk-text-repr-fallback\"><pre>XGBClassifier(base_score=0.5, booster=&#x27;gbtree&#x27;, callbacks=None,\n",
              "              colsample_bylevel=1, colsample_bynode=1, colsample_bytree=1,\n",
              "              early_stopping_rounds=None, enable_categorical=False,\n",
              "              eval_metric=None, gamma=0, gpu_id=-1, grow_policy=&#x27;depthwise&#x27;,\n",
              "              importance_type=None, interaction_constraints=&#x27;&#x27;,\n",
              "              learning_rate=0.300000012, max_bin=256, max_cat_to_onehot=4,\n",
              "              max_delta_step=0, max_depth=6, max_leaves=0, min_child_weight=1,\n",
              "              missing=nan, monotone_constraints=&#x27;()&#x27;, n_estimators=100,\n",
              "              n_jobs=0, num_parallel_tree=1, predictor=&#x27;auto&#x27;, random_state=0,\n",
              "              reg_alpha=0, reg_lambda=1, ...)</pre><b>In a Jupyter environment, please rerun this cell to show the HTML representation or trust the notebook. <br />On GitHub, the HTML representation is unable to render, please try loading this page with nbviewer.org.</b></div><div class=\"sk-container\" hidden><div class=\"sk-item\"><div class=\"sk-estimator sk-toggleable\"><input class=\"sk-toggleable__control sk-hidden--visually\" id=\"sk-estimator-id-1\" type=\"checkbox\" checked><label for=\"sk-estimator-id-1\" class=\"sk-toggleable__label sk-toggleable__label-arrow\">XGBClassifier</label><div class=\"sk-toggleable__content\"><pre>XGBClassifier(base_score=0.5, booster=&#x27;gbtree&#x27;, callbacks=None,\n",
              "              colsample_bylevel=1, colsample_bynode=1, colsample_bytree=1,\n",
              "              early_stopping_rounds=None, enable_categorical=False,\n",
              "              eval_metric=None, gamma=0, gpu_id=-1, grow_policy=&#x27;depthwise&#x27;,\n",
              "              importance_type=None, interaction_constraints=&#x27;&#x27;,\n",
              "              learning_rate=0.300000012, max_bin=256, max_cat_to_onehot=4,\n",
              "              max_delta_step=0, max_depth=6, max_leaves=0, min_child_weight=1,\n",
              "              missing=nan, monotone_constraints=&#x27;()&#x27;, n_estimators=100,\n",
              "              n_jobs=0, num_parallel_tree=1, predictor=&#x27;auto&#x27;, random_state=0,\n",
              "              reg_alpha=0, reg_lambda=1, ...)</pre></div></div></div></div></div>"
            ],
            "text/plain": [
              "XGBClassifier(base_score=0.5, booster='gbtree', callbacks=None,\n",
              "              colsample_bylevel=1, colsample_bynode=1, colsample_bytree=1,\n",
              "              early_stopping_rounds=None, enable_categorical=False,\n",
              "              eval_metric=None, gamma=0, gpu_id=-1, grow_policy='depthwise',\n",
              "              importance_type=None, interaction_constraints='',\n",
              "              learning_rate=0.300000012, max_bin=256, max_cat_to_onehot=4,\n",
              "              max_delta_step=0, max_depth=6, max_leaves=0, min_child_weight=1,\n",
              "              missing=nan, monotone_constraints='()', n_estimators=100,\n",
              "              n_jobs=0, num_parallel_tree=1, predictor='auto', random_state=0,\n",
              "              reg_alpha=0, reg_lambda=1, ...)"
            ]
          },
          "execution_count": 265,
          "metadata": {},
          "output_type": "execute_result"
        }
      ],
      "source": [
        "'''\n",
        "Treinando o modelo\n",
        "'''\n",
        "\n",
        "model_1 = model_1.fit(X_train, y_train)\n",
        "model_1"
      ]
    },
    {
      "cell_type": "code",
      "execution_count": null,
      "metadata": {
        "id": "oSpYt_6UhqIw"
      },
      "outputs": [],
      "source": [
        "y_predict_1 = model_1.predict(X_val)"
      ]
    },
    {
      "cell_type": "code",
      "execution_count": null,
      "metadata": {
        "id": "hLPiZIvChqIw",
        "outputId": "e244b2ba-e06e-4b91-8192-7944e86abb6c"
      },
      "outputs": [
        {
          "data": {
            "text/html": [
              "<div>\n",
              "<style scoped>\n",
              "    .dataframe tbody tr th:only-of-type {\n",
              "        vertical-align: middle;\n",
              "    }\n",
              "\n",
              "    .dataframe tbody tr th {\n",
              "        vertical-align: top;\n",
              "    }\n",
              "\n",
              "    .dataframe thead th {\n",
              "        text-align: right;\n",
              "    }\n",
              "</style>\n",
              "<table border=\"1\" class=\"dataframe\">\n",
              "  <thead>\n",
              "    <tr style=\"text-align: right;\">\n",
              "      <th></th>\n",
              "      <th>Gabarito</th>\n",
              "      <th>Previsoes_XGBoost</th>\n",
              "    </tr>\n",
              "  </thead>\n",
              "  <tbody>\n",
              "    <tr>\n",
              "      <th>275144</th>\n",
              "      <td>0</td>\n",
              "      <td>0</td>\n",
              "    </tr>\n",
              "    <tr>\n",
              "      <th>272518</th>\n",
              "      <td>0</td>\n",
              "      <td>0</td>\n",
              "    </tr>\n",
              "    <tr>\n",
              "      <th>299765</th>\n",
              "      <td>1</td>\n",
              "      <td>1</td>\n",
              "    </tr>\n",
              "    <tr>\n",
              "      <th>476823</th>\n",
              "      <td>1</td>\n",
              "      <td>1</td>\n",
              "    </tr>\n",
              "    <tr>\n",
              "      <th>280765</th>\n",
              "      <td>1</td>\n",
              "      <td>1</td>\n",
              "    </tr>\n",
              "    <tr>\n",
              "      <th>...</th>\n",
              "      <td>...</td>\n",
              "      <td>...</td>\n",
              "    </tr>\n",
              "    <tr>\n",
              "      <th>274201</th>\n",
              "      <td>0</td>\n",
              "      <td>0</td>\n",
              "    </tr>\n",
              "    <tr>\n",
              "      <th>327147</th>\n",
              "      <td>1</td>\n",
              "      <td>1</td>\n",
              "    </tr>\n",
              "    <tr>\n",
              "      <th>134306</th>\n",
              "      <td>0</td>\n",
              "      <td>0</td>\n",
              "    </tr>\n",
              "    <tr>\n",
              "      <th>209993</th>\n",
              "      <td>0</td>\n",
              "      <td>0</td>\n",
              "    </tr>\n",
              "    <tr>\n",
              "      <th>282530</th>\n",
              "      <td>1</td>\n",
              "      <td>1</td>\n",
              "    </tr>\n",
              "  </tbody>\n",
              "</table>\n",
              "<p>98627 rows × 2 columns</p>\n",
              "</div>"
            ],
            "text/plain": [
              "        Gabarito  Previsoes_XGBoost\n",
              "275144         0                  0\n",
              "272518         0                  0\n",
              "299765         1                  1\n",
              "476823         1                  1\n",
              "280765         1                  1\n",
              "...          ...                ...\n",
              "274201         0                  0\n",
              "327147         1                  1\n",
              "134306         0                  0\n",
              "209993         0                  0\n",
              "282530         1                  1\n",
              "\n",
              "[98627 rows x 2 columns]"
            ]
          },
          "execution_count": 267,
          "metadata": {},
          "output_type": "execute_result"
        }
      ],
      "source": [
        "'''\n",
        "Comparando gabarito e Previsoes\n",
        "'''\n",
        "gabarito = pd.DataFrame({'Gabarito': y_val,\n",
        "                         'Previsoes_XGBoost': y_predict_1})\n",
        "gabarito"
      ]
    },
    {
      "cell_type": "code",
      "execution_count": null,
      "metadata": {
        "id": "-xTSLCmKhqIx",
        "outputId": "3fe34ba0-d403-4dea-f6a5-03b62e63453c"
      },
      "outputs": [
        {
          "name": "stdout",
          "output_type": "stream",
          "text": [
            "Classification metrics: \n",
            "               precision    recall  f1-score   support\n",
            "\n",
            "           0       0.99      1.00      0.99     49313\n",
            "           1       1.00      0.99      0.99     49314\n",
            "\n",
            "    accuracy                           0.99     98627\n",
            "   macro avg       0.99      0.99      0.99     98627\n",
            "weighted avg       0.99      0.99      0.99     98627\n",
            "\n",
            "Acurácia: \n",
            " 0.9945552434931612\n",
            "Confusion Matrix: \n",
            " [[49077   236]\n",
            " [  301 49013]]\n"
          ]
        }
      ],
      "source": [
        "'''\n",
        "Verificando Métricas\n",
        "'''\n",
        "\n",
        "\n",
        "print('Classification metrics: \\n', classification_report(y_val, y_predict_1))\n",
        "print('Acurácia: \\n', accuracy_score(y_val,y_predict_1)) \n",
        "print('Confusion Matrix: \\n', confusion_matrix(y_val, y_predict_1))"
      ]
    },
    {
      "cell_type": "markdown",
      "metadata": {
        "id": "ib_LzXnVhqIx"
      },
      "source": [
        "## Random Forest"
      ]
    },
    {
      "cell_type": "code",
      "execution_count": null,
      "metadata": {
        "id": "2lYQO0KuhqIx"
      },
      "outputs": [],
      "source": [
        "model_2 = RandomForestClassifier()"
      ]
    },
    {
      "cell_type": "code",
      "execution_count": null,
      "metadata": {
        "id": "LegpG3sshqIy",
        "outputId": "b737d5ea-ba16-45a4-aa54-41d2cb61056d"
      },
      "outputs": [
        {
          "data": {
            "text/html": [
              "<style>#sk-container-id-4 {color: black;background-color: white;}#sk-container-id-4 pre{padding: 0;}#sk-container-id-4 div.sk-toggleable {background-color: white;}#sk-container-id-4 label.sk-toggleable__label {cursor: pointer;display: block;width: 100%;margin-bottom: 0;padding: 0.3em;box-sizing: border-box;text-align: center;}#sk-container-id-4 label.sk-toggleable__label-arrow:before {content: \"▸\";float: left;margin-right: 0.25em;color: #696969;}#sk-container-id-4 label.sk-toggleable__label-arrow:hover:before {color: black;}#sk-container-id-4 div.sk-estimator:hover label.sk-toggleable__label-arrow:before {color: black;}#sk-container-id-4 div.sk-toggleable__content {max-height: 0;max-width: 0;overflow: hidden;text-align: left;background-color: #f0f8ff;}#sk-container-id-4 div.sk-toggleable__content pre {margin: 0.2em;color: black;border-radius: 0.25em;background-color: #f0f8ff;}#sk-container-id-4 input.sk-toggleable__control:checked~div.sk-toggleable__content {max-height: 200px;max-width: 100%;overflow: auto;}#sk-container-id-4 input.sk-toggleable__control:checked~label.sk-toggleable__label-arrow:before {content: \"▾\";}#sk-container-id-4 div.sk-estimator input.sk-toggleable__control:checked~label.sk-toggleable__label {background-color: #d4ebff;}#sk-container-id-4 div.sk-label input.sk-toggleable__control:checked~label.sk-toggleable__label {background-color: #d4ebff;}#sk-container-id-4 input.sk-hidden--visually {border: 0;clip: rect(1px 1px 1px 1px);clip: rect(1px, 1px, 1px, 1px);height: 1px;margin: -1px;overflow: hidden;padding: 0;position: absolute;width: 1px;}#sk-container-id-4 div.sk-estimator {font-family: monospace;background-color: #f0f8ff;border: 1px dotted black;border-radius: 0.25em;box-sizing: border-box;margin-bottom: 0.5em;}#sk-container-id-4 div.sk-estimator:hover {background-color: #d4ebff;}#sk-container-id-4 div.sk-parallel-item::after {content: \"\";width: 100%;border-bottom: 1px solid gray;flex-grow: 1;}#sk-container-id-4 div.sk-label:hover label.sk-toggleable__label {background-color: #d4ebff;}#sk-container-id-4 div.sk-serial::before {content: \"\";position: absolute;border-left: 1px solid gray;box-sizing: border-box;top: 0;bottom: 0;left: 50%;z-index: 0;}#sk-container-id-4 div.sk-serial {display: flex;flex-direction: column;align-items: center;background-color: white;padding-right: 0.2em;padding-left: 0.2em;position: relative;}#sk-container-id-4 div.sk-item {position: relative;z-index: 1;}#sk-container-id-4 div.sk-parallel {display: flex;align-items: stretch;justify-content: center;background-color: white;position: relative;}#sk-container-id-4 div.sk-item::before, #sk-container-id-4 div.sk-parallel-item::before {content: \"\";position: absolute;border-left: 1px solid gray;box-sizing: border-box;top: 0;bottom: 0;left: 50%;z-index: -1;}#sk-container-id-4 div.sk-parallel-item {display: flex;flex-direction: column;z-index: 1;position: relative;background-color: white;}#sk-container-id-4 div.sk-parallel-item:first-child::after {align-self: flex-end;width: 50%;}#sk-container-id-4 div.sk-parallel-item:last-child::after {align-self: flex-start;width: 50%;}#sk-container-id-4 div.sk-parallel-item:only-child::after {width: 0;}#sk-container-id-4 div.sk-dashed-wrapped {border: 1px dashed gray;margin: 0 0.4em 0.5em 0.4em;box-sizing: border-box;padding-bottom: 0.4em;background-color: white;}#sk-container-id-4 div.sk-label label {font-family: monospace;font-weight: bold;display: inline-block;line-height: 1.2em;}#sk-container-id-4 div.sk-label-container {text-align: center;}#sk-container-id-4 div.sk-container {/* jupyter's `normalize.less` sets `[hidden] { display: none; }` but bootstrap.min.css set `[hidden] { display: none !important; }` so we also need the `!important` here to be able to override the default hidden behavior on the sphinx rendered scikit-learn.org. See: https://github.com/scikit-learn/scikit-learn/issues/21755 */display: inline-block !important;position: relative;}#sk-container-id-4 div.sk-text-repr-fallback {display: none;}</style><div id=\"sk-container-id-4\" class=\"sk-top-container\"><div class=\"sk-text-repr-fallback\"><pre>RandomForestClassifier()</pre><b>In a Jupyter environment, please rerun this cell to show the HTML representation or trust the notebook. <br />On GitHub, the HTML representation is unable to render, please try loading this page with nbviewer.org.</b></div><div class=\"sk-container\" hidden><div class=\"sk-item\"><div class=\"sk-estimator sk-toggleable\"><input class=\"sk-toggleable__control sk-hidden--visually\" id=\"sk-estimator-id-4\" type=\"checkbox\" checked><label for=\"sk-estimator-id-4\" class=\"sk-toggleable__label sk-toggleable__label-arrow\">RandomForestClassifier</label><div class=\"sk-toggleable__content\"><pre>RandomForestClassifier()</pre></div></div></div></div></div>"
            ],
            "text/plain": [
              "RandomForestClassifier()"
            ]
          },
          "execution_count": 82,
          "metadata": {},
          "output_type": "execute_result"
        }
      ],
      "source": [
        "model_2 = model_2.fit(X_train, y_train)\n",
        "model_2"
      ]
    },
    {
      "cell_type": "code",
      "execution_count": null,
      "metadata": {
        "id": "z-45nckxhqIy"
      },
      "outputs": [],
      "source": [
        "y_predict_2 = model_2.predict(X_val)"
      ]
    },
    {
      "cell_type": "code",
      "execution_count": null,
      "metadata": {
        "id": "iLRTVNJXhqIy",
        "outputId": "607dd469-b269-4249-97a8-990f068a37d1"
      },
      "outputs": [
        {
          "data": {
            "text/html": [
              "<div>\n",
              "<style scoped>\n",
              "    .dataframe tbody tr th:only-of-type {\n",
              "        vertical-align: middle;\n",
              "    }\n",
              "\n",
              "    .dataframe tbody tr th {\n",
              "        vertical-align: top;\n",
              "    }\n",
              "\n",
              "    .dataframe thead th {\n",
              "        text-align: right;\n",
              "    }\n",
              "</style>\n",
              "<table border=\"1\" class=\"dataframe\">\n",
              "  <thead>\n",
              "    <tr style=\"text-align: right;\">\n",
              "      <th></th>\n",
              "      <th>Gabarito</th>\n",
              "      <th>Previsoes_Random_Forest</th>\n",
              "    </tr>\n",
              "  </thead>\n",
              "  <tbody>\n",
              "    <tr>\n",
              "      <th>275144</th>\n",
              "      <td>0</td>\n",
              "      <td>0</td>\n",
              "    </tr>\n",
              "    <tr>\n",
              "      <th>272518</th>\n",
              "      <td>0</td>\n",
              "      <td>0</td>\n",
              "    </tr>\n",
              "    <tr>\n",
              "      <th>299765</th>\n",
              "      <td>1</td>\n",
              "      <td>1</td>\n",
              "    </tr>\n",
              "    <tr>\n",
              "      <th>476823</th>\n",
              "      <td>1</td>\n",
              "      <td>1</td>\n",
              "    </tr>\n",
              "    <tr>\n",
              "      <th>280765</th>\n",
              "      <td>1</td>\n",
              "      <td>1</td>\n",
              "    </tr>\n",
              "    <tr>\n",
              "      <th>...</th>\n",
              "      <td>...</td>\n",
              "      <td>...</td>\n",
              "    </tr>\n",
              "    <tr>\n",
              "      <th>274201</th>\n",
              "      <td>0</td>\n",
              "      <td>0</td>\n",
              "    </tr>\n",
              "    <tr>\n",
              "      <th>327147</th>\n",
              "      <td>1</td>\n",
              "      <td>1</td>\n",
              "    </tr>\n",
              "    <tr>\n",
              "      <th>134306</th>\n",
              "      <td>0</td>\n",
              "      <td>0</td>\n",
              "    </tr>\n",
              "    <tr>\n",
              "      <th>209993</th>\n",
              "      <td>0</td>\n",
              "      <td>0</td>\n",
              "    </tr>\n",
              "    <tr>\n",
              "      <th>282530</th>\n",
              "      <td>1</td>\n",
              "      <td>1</td>\n",
              "    </tr>\n",
              "  </tbody>\n",
              "</table>\n",
              "<p>98627 rows × 2 columns</p>\n",
              "</div>"
            ],
            "text/plain": [
              "        Gabarito  Previsoes_Random_Forest\n",
              "275144         0                        0\n",
              "272518         0                        0\n",
              "299765         1                        1\n",
              "476823         1                        1\n",
              "280765         1                        1\n",
              "...          ...                      ...\n",
              "274201         0                        0\n",
              "327147         1                        1\n",
              "134306         0                        0\n",
              "209993         0                        0\n",
              "282530         1                        1\n",
              "\n",
              "[98627 rows x 2 columns]"
            ]
          },
          "execution_count": 102,
          "metadata": {},
          "output_type": "execute_result"
        }
      ],
      "source": [
        "gabarito = pd.DataFrame({'Gabarito': y_val, 'Previsoes_Random_Forest': y_predict_2})\n",
        "gabarito"
      ]
    },
    {
      "cell_type": "code",
      "execution_count": null,
      "metadata": {
        "id": "BlvkkiDEhqIz",
        "outputId": "7251226b-7815-4abd-80ef-78497a7de0f5"
      },
      "outputs": [
        {
          "name": "stdout",
          "output_type": "stream",
          "text": [
            "Classification metrics: \n",
            "               precision    recall  f1-score   support\n",
            "\n",
            "           0       0.99      0.99      0.99     49313\n",
            "           1       0.99      0.99      0.99     49314\n",
            "\n",
            "    accuracy                           0.99     98627\n",
            "   macro avg       0.99      0.99      0.99     98627\n",
            "weighted avg       0.99      0.99      0.99     98627\n",
            "\n",
            "Acurácia: \n",
            " 0.9928315775598974\n",
            "Confusion Matrix: \n",
            " [[48964   349]\n",
            " [  358 48956]]\n"
          ]
        }
      ],
      "source": [
        "print('Classification metrics: \\n', classification_report(y_val, y_predict_2))\n",
        "print('Acurácia: \\n', accuracy_score(y_val, y_predict_2))\n",
        "print('Confusion Matrix: \\n', confusion_matrix(y_val, y_predict_2))"
      ]
    },
    {
      "cell_type": "markdown",
      "metadata": {
        "id": "CZ7UikVihqI2"
      },
      "source": [
        "# Corss Validation"
      ]
    },
    {
      "cell_type": "markdown",
      "metadata": {
        "id": "mBlZECEBhqI2"
      },
      "source": [
        "### Validando XGboots"
      ]
    },
    {
      "cell_type": "code",
      "execution_count": null,
      "metadata": {
        "id": "7vrUGaO3hqI9"
      },
      "outputs": [],
      "source": [
        "scores_XG = cross_val_score(model_1, X, y, cv = 5, scoring = 'accuracy')"
      ]
    },
    {
      "cell_type": "code",
      "execution_count": null,
      "metadata": {
        "id": "Bd3-vkmdhqI9",
        "outputId": "c6c10c8a-aa7d-47ec-bfc3-9f8ed933acae"
      },
      "outputs": [
        {
          "data": {
            "text/plain": [
              "array([0.91389782, 0.97304998, 0.93100197, 0.90899966, 0.97885953])"
            ]
          },
          "execution_count": 120,
          "metadata": {},
          "output_type": "execute_result"
        }
      ],
      "source": [
        "scores_XG"
      ]
    },
    {
      "cell_type": "code",
      "execution_count": null,
      "metadata": {
        "id": "_Fb2qXdihqI-",
        "outputId": "9f0c575f-69cf-4872-862b-2d0e8820bcb5"
      },
      "outputs": [
        {
          "data": {
            "text/plain": [
              "0.9411617890864615"
            ]
          },
          "execution_count": 121,
          "metadata": {},
          "output_type": "execute_result"
        }
      ],
      "source": [
        "'''\n",
        "Realizando o cross validation podemos perceber que, enquanto a acurácia estava dando 99% antes, agora\n",
        "ja temos uma medida mais confiavel de 94%.\n",
        "'''\n",
        "scores_XG.mean()"
      ]
    },
    {
      "cell_type": "code",
      "execution_count": null,
      "metadata": {
        "id": "hsVtZIYChqI-",
        "outputId": "3ea5c33c-6f17-42ad-b456-5b67774b0be6"
      },
      "outputs": [
        {
          "data": {
            "text/plain": [
              "0.9310019670269503"
            ]
          },
          "execution_count": 122,
          "metadata": {},
          "output_type": "execute_result"
        }
      ],
      "source": [
        "'''\n",
        "Uma outra boa métrica para se olhar é a mediana\n",
        "'''\n",
        "\n",
        "statistics.median(scores_XG)"
      ]
    },
    {
      "cell_type": "markdown",
      "metadata": {
        "id": "qqWNaWd8hqI-"
      },
      "source": [
        "### Validando Random Forest "
      ]
    },
    {
      "cell_type": "code",
      "execution_count": null,
      "metadata": {
        "id": "mYuIwI-thqI_"
      },
      "outputs": [],
      "source": [
        "scores_RF = cross_val_score(model_2, X, y, cv = 5, scoring = 'accuracy')"
      ]
    },
    {
      "cell_type": "code",
      "execution_count": null,
      "metadata": {
        "id": "GOlnuDGDhqI_",
        "outputId": "2c6700e3-6788-4f62-a781-d8409fe5788b"
      },
      "outputs": [
        {
          "data": {
            "text/plain": [
              "array([0.8875967 , 0.97393209, 0.93423641, 0.91221382, 0.97707501])"
            ]
          },
          "execution_count": 124,
          "metadata": {},
          "output_type": "execute_result"
        }
      ],
      "source": [
        "scores_RF"
      ]
    },
    {
      "cell_type": "code",
      "execution_count": null,
      "metadata": {
        "id": "T3Df8VOxhqI_",
        "outputId": "3c9d5cfb-8b3a-45cb-8cc3-d658afcccf87"
      },
      "outputs": [
        {
          "data": {
            "text/plain": [
              "0.9370108054087354"
            ]
          },
          "execution_count": 125,
          "metadata": {},
          "output_type": "execute_result"
        }
      ],
      "source": [
        "'''\n",
        "Realizando o cross validation podemos perceber que, enquanto a acurácia estava dando 99% antes, agora\n",
        "ja temos uma medida mais confiavel de 93,70% em média.\n",
        "'''\n",
        "\n",
        "scores_RF.mean()"
      ]
    },
    {
      "cell_type": "code",
      "execution_count": null,
      "metadata": {
        "id": "NDnTQdyehqJA",
        "outputId": "3fa652f4-8a3f-4d8e-e500-1b19285b137e"
      },
      "outputs": [
        {
          "data": {
            "text/plain": [
              "0.9310019670269503"
            ]
          },
          "execution_count": 126,
          "metadata": {},
          "output_type": "execute_result"
        }
      ],
      "source": [
        "'''\n",
        "Mediana\n",
        "'''\n",
        "statistics.median(scores_RF)"
      ]
    },
    {
      "cell_type": "markdown",
      "metadata": {
        "id": "y-DqvYGuhqJA"
      },
      "source": [
        "## Escolha do melhor modelo\n",
        "\n",
        "Tendo em vista que ao realizar o cross validation o XGBoost teve em média 94,12% e mediana de 93,10% de acurácia enquanto o Random Forest teve uma média de 93,70% e uma mediana de 93,10%, apesar de ambos terem bons resultados, optamos pelo XGBoost pela sua maior acertividade e velocidade de processamento. \n",
        "\n",
        "\n",
        "Lembrando que escolhemos a acurácia como métrica por ser a mais usualmente utilizada, mas a escolha deve ser tomada juntamente com a equipe de negócios para saber qual erro devemos priorizar a redução (Falso Positivo ou Falso Negativo)."
      ]
    },
    {
      "cell_type": "markdown",
      "metadata": {
        "id": "eJHxttRehqJA"
      },
      "source": [
        "### Criando csv para classificar as contas pendentes de classificação"
      ]
    },
    {
      "cell_type": "code",
      "execution_count": null,
      "metadata": {
        "id": "8CMRdvuchqJB"
      },
      "outputs": [],
      "source": [
        "df_NA['trasaction_hour'] = pd.to_datetime(df_NA['created_at']).dt.hour\n",
        "df_NA.drop(['created_at'], axis = 1, inplace = True)\n",
        "\n",
        "df_NA.loc[(df_NA['trasaction_hour'] >= 0) & (df_NA['trasaction_hour'] < 7),'shift'] = 'madrugada'\n",
        "df_NA.loc[(df_NA['trasaction_hour'] >= 7) & (df_NA['trasaction_hour'] < 13),'shift'] = 'manha'\n",
        "df_NA.loc[(df_NA['trasaction_hour'] >= 13) & (df_NA['trasaction_hour'] < 19),'shift'] = 'tarde'\n",
        "df_NA.loc[(df_NA['trasaction_hour'] >= 19) & (df_NA['trasaction_hour'] <= 23),'shift'] = 'noite'"
      ]
    },
    {
      "cell_type": "code",
      "execution_count": null,
      "metadata": {
        "id": "IxB_quZPhqJB"
      },
      "outputs": [],
      "source": [
        "df_NA.drop(['city','trasaction_hour', 'account_number','level'], axis = 1, inplace = True)"
      ]
    },
    {
      "cell_type": "code",
      "execution_count": null,
      "metadata": {
        "id": "sXnVtfDXhqJB"
      },
      "outputs": [],
      "source": [
        "one_hot_enc = OneHotEncoder(cols = ['state', 'transaction','occupation','shift'])\n",
        "df_NA = one_hot_enc.fit_transform(df_NA)"
      ]
    },
    {
      "cell_type": "code",
      "execution_count": null,
      "metadata": {
        "id": "WrQjN0k8hqJC"
      },
      "outputs": [],
      "source": [
        "df_NA.drop(['transaction_5','shift_5'], inplace = True, axis = 1)"
      ]
    },
    {
      "cell_type": "code",
      "execution_count": null,
      "metadata": {
        "id": "-b8JYPgzhqJC"
      },
      "outputs": [],
      "source": [
        "fraud = model_1.predict(df_NA)"
      ]
    },
    {
      "cell_type": "code",
      "execution_count": null,
      "metadata": {
        "id": "UzZAhtaYhqJD"
      },
      "outputs": [],
      "source": [
        "final_product = pd.DataFrame({\n",
        "    'account_number' : account_number_NA,\n",
        "    'fraud' : fraud\n",
        "})"
      ]
    },
    {
      "cell_type": "code",
      "execution_count": null,
      "metadata": {
        "id": "JYCdS1JchqJD"
      },
      "outputs": [],
      "source": [
        "final_product = final_product.groupby(by = ['account_number']).mean()"
      ]
    },
    {
      "cell_type": "markdown",
      "metadata": {
        "id": "_OspDJbGhqJD"
      },
      "source": [
        "O modelo não é 100% acertivo e analisamos varios registros de cada usuário. Dessa\n",
        "forma, apesar das métricas do modelo serem boas, temos alguns erros. Com isso, existem usuários que em \n",
        "alguns registros foram classificados como 0 e um ou outro como 1. \n",
        "Para minimizarmos esse erro na hora de classificar o usuário em específico, foi realizado\n",
        "um agrupamento pela coluna 'account_number' e calculamos a média para cada um dos usuários.\n",
        "Se acaso o usuário tiver uma média em 'fraud' maior que 0.5 então concluimos que é uma conta \n",
        "fraudulenta. "
      ]
    },
    {
      "cell_type": "code",
      "execution_count": null,
      "metadata": {
        "id": "OwamB189hqJE"
      },
      "outputs": [],
      "source": [
        "t = list(final_product['fraud'])\n",
        "for i in range(0,102):\n",
        "    if t[i] >= .5:\n",
        "        t[i] = 1\n",
        "    else:\n",
        "        t[i] = 0\n",
        "final_product['fraud'] = t"
      ]
    },
    {
      "cell_type": "code",
      "execution_count": null,
      "metadata": {
        "id": "p94vggFFhqJG",
        "outputId": "8ed4aebc-4c1e-4e4d-a7eb-ef0c002d4c8d"
      },
      "outputs": [
        {
          "data": {
            "text/plain": [
              "fraud\n",
              "0.0      90\n",
              "1.0      13\n",
              "dtype: int64"
            ]
          },
          "execution_count": 320,
          "metadata": {},
          "output_type": "execute_result"
        }
      ],
      "source": [
        "final_product.value_counts()"
      ]
    },
    {
      "cell_type": "code",
      "execution_count": null,
      "metadata": {
        "id": "0DLK_9mhhqJH"
      },
      "outputs": [],
      "source": [
        "final_product.to_csv(\"fraud_prediction.csv\")"
      ]
    }
  ],
  "metadata": {
    "colab": {
      "name": "Detecção de Fraude.ipynb",
      "provenance": []
    },
    "kernelspec": {
      "display_name": "Python 3 (ipykernel)",
      "language": "python",
      "name": "python3"
    },
    "language_info": {
      "codemirror_mode": {
        "name": "ipython",
        "version": 3
      },
      "file_extension": ".py",
      "mimetype": "text/x-python",
      "name": "python",
      "nbconvert_exporter": "python",
      "pygments_lexer": "ipython3",
      "version": "3.9.7"
    }
  },
  "nbformat": 4,
  "nbformat_minor": 0
}